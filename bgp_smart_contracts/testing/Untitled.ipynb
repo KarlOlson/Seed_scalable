{
 "cells": [
  {
   "cell_type": "code",
   "execution_count": 116,
   "metadata": {},
   "outputs": [],
   "source": [
    "from scapy.all import *\n",
    "load_contrib('bgp')"
   ]
  },
  {
   "cell_type": "code",
   "execution_count": 550,
   "metadata": {},
   "outputs": [],
   "source": [
    "base = \"/home/greg/BGP_Chain/Seed_scalable_complete/bgp_smart_contracts/pcaps/2022-10-17-14:37:04/\"\n",
    "pcap_path = base + \"as150.pcap\"\n",
    "# multi_pcap_path = base + \"multiple-nlri.pcap\"\n",
    "hijack_base = \"/home/greg/BGP_Chain/Seed_scalable_complete/bgp_smart_contracts/pcaps/\"\n",
    "as151_hijack = hijack_base + \"as151-hijack.pcap\""
   ]
  },
  {
   "cell_type": "code",
   "execution_count": 621,
   "metadata": {},
   "outputs": [],
   "source": [
    "def get_bgp_update_packet():\n",
    "    for pkt in PcapReader(pcap_path):\n",
    "        try:\n",
    "            if (str(pkt.summary()).find('BGPHeader') > 0) and (pkt[BGPHeader].type == 2):\n",
    "                return pkt\n",
    "                print(pkt[TCP].show())\n",
    "    #             print(packet[TCP].payload())\n",
    "        except Exception as e:\n",
    "            print(repr(e))\n",
    "            \n",
    "def get_bgp_update_with_2_nlri():\n",
    "    for pkt in PcapReader(multi_pcap_path):\n",
    "        try:\n",
    "            if (str(pkt.summary()).find('BGPHeader') > 0) and (pkt[BGPHeader].type == 2):\n",
    "                if len(pkt[BGPUpdate].nlri) > 1:\n",
    "                    return pkt\n",
    "    #             print(packet[TCP].payload())\n",
    "        except Exception as e:\n",
    "            print(repr(e))\n",
    "            \n",
    "def get_bgp_update_151_hijack_packet():\n",
    "    count = 0\n",
    "    for pkt in PcapReader(as151_hijack):\n",
    "        count += 1\n",
    "        try:\n",
    "            if (str(pkt.summary()).find('BGPHeader') > 0) and (pkt[BGPHeader].type == 2):\n",
    "                if len(pkt[BGPUpdate].nlri) > 1 and count > 27:\n",
    "                    return pkt\n",
    "    #             print(packet[TCP].payload())\n",
    "        except Exception as e:\n",
    "            print(repr(e))"
   ]
  },
  {
   "cell_type": "code",
   "execution_count": 622,
   "metadata": {},
   "outputs": [],
   "source": [
    "pkt = get_bgp_update_packet()\n",
    "p_nlri = get_bgp_update_with_2_nlri()\n",
    "p_hijack = get_bgp_update_151_hijack_packet()"
   ]
  },
  {
   "cell_type": "code",
   "execution_count": 553,
   "metadata": {},
   "outputs": [
    {
     "name": "stdout",
     "output_type": "stream",
     "text": [
      "###[ cooked linux ]### \n",
      "  pkttype   = sent-by-us\n",
      "  lladdrtype= 0x1\n",
      "  lladdrlen = 6\n",
      "  src       = '\\x02B\\nd\\x00\\\\x97'\n",
      "  proto     = IPv4\n",
      "###[ IP ]### \n",
      "     version   = 4\n",
      "     ihl       = 5\n",
      "     tos       = 0xc0\n",
      "     len       = 119\n",
      "     id        = 11230\n",
      "     flags     = DF\n",
      "     frag      = 0\n",
      "     ttl       = 1\n",
      "     proto     = tcp\n",
      "     chksum    = 0x3721\n",
      "     src       = 10.100.0.151\n",
      "     dst       = 10.100.0.100\n",
      "     \\options   \\\n",
      "###[ TCP ]### \n",
      "        sport     = bgp\n",
      "        dport     = 39055\n",
      "        seq       = 2321666824\n",
      "        ack       = 2277178902\n",
      "        dataofs   = 8\n",
      "        reserved  = 0\n",
      "        flags     = PA\n",
      "        window    = 509\n",
      "        chksum    = 0x8d0\n",
      "        urgptr    = 0\n",
      "        options   = [('NOP', None), ('NOP', None), ('Timestamp', (1664964607, 674672228))]\n",
      "###[ HEADER ]### \n",
      "           marker    = 0xffffffffffffffffffffffffffffffff\n",
      "           len       = 67\n",
      "           type      = UPDATE\n",
      "###[ UPDATE ]### \n",
      "              withdrawn_routes_len= 0\n",
      "              \\withdrawn_routes\\\n",
      "              path_attr_len= 35\n",
      "              \\path_attr \\\n",
      "               |###[ BGPPathAttr ]### \n",
      "               |  type_flags= Transitive\n",
      "               |  type_code = ORIGIN\n",
      "               |  attr_len  = 1\n",
      "               |  \\attribute \\\n",
      "               |   |###[ ORIGIN ]### \n",
      "               |   |  origin    = IGP\n",
      "               |###[ BGPPathAttr ]### \n",
      "               |  type_flags= Transitive\n",
      "               |  type_code = AS_PATH\n",
      "               |  attr_len  = 6\n",
      "               |  \\attribute \\\n",
      "               |   |###[ AS_PATH (RFC 4271) ]### \n",
      "               |   |  \\segments  \\\n",
      "               |   |   |###[ ASPathSegment ]### \n",
      "               |   |   |  segment_type= AS_SEQUENCE\n",
      "               |   |   |  segment_length= 1\n",
      "               |   |   |  segment_value= [0]\n",
      "               |   |   |###[ ASPathSegment ]### \n",
      "               |   |   |  segment_type= 0\n",
      "               |   |   |  segment_length= 151\n",
      "               |   |   |  segment_value= []\n",
      "               |###[ BGPPathAttr ]### \n",
      "               |  type_flags= Transitive\n",
      "               |  type_code = NEXT_HOP\n",
      "               |  attr_len  = 4\n",
      "               |  \\attribute \\\n",
      "               |   |###[ NEXT_HOP ]### \n",
      "               |   |  next_hop  = 10.100.0.151\n",
      "               |###[ BGPPathAttr ]### \n",
      "               |  type_flags= Transitive+Optional\n",
      "               |  type_code = 32\n",
      "               |  attr_len  = 12\n",
      "               |  \\attribute \\\n",
      "               |   |###[ Raw ]### \n",
      "               |   |  load      = '\\x00\\x00\\x00\\\\x97\\x00\\x00\\x00\\x00\\x00\\x00\\x00\\x00'\n",
      "              \\nlri      \\\n",
      "               |###[ IPv4 NLRI ]### \n",
      "               |  prefix    = 10.152.0.0/25\n",
      "               |###[ IPv4 NLRI ]### \n",
      "               |  prefix    = 10.151.0.0/24\n",
      "\n"
     ]
    }
   ],
   "source": [
    "p_hijack.show()"
   ]
  },
  {
   "cell_type": "code",
   "execution_count": 61,
   "metadata": {},
   "outputs": [
    {
     "data": {
      "text/plain": [
       "<BGPPathAttr  type_flags=Transitive type_code=AS_PATH attr_len=6 attribute=<BGPPAASPath  segments=[<ASPathSegment  segment_type=AS_SEQUENCE segment_length=1 segment_value=[0] |>, <ASPathSegment  segment_type=0 segment_length=150 |>] |> |>"
      ]
     },
     "execution_count": 61,
     "metadata": {},
     "output_type": "execute_result"
    }
   ],
   "source": [
    "pkt[BGPUpdate].path_attr[1]"
   ]
  },
  {
   "cell_type": "code",
   "execution_count": 62,
   "metadata": {},
   "outputs": [
    {
     "data": {
      "text/plain": [
       "<ASPathSegment  segment_type=AS_SEQUENCE segment_length=1 segment_value=[0] |>"
      ]
     },
     "execution_count": 62,
     "metadata": {},
     "output_type": "execute_result"
    }
   ],
   "source": [
    "pkt[BGPUpdate].path_attr[1].attribute.segments[0]"
   ]
  },
  {
   "cell_type": "code",
   "execution_count": 9,
   "metadata": {},
   "outputs": [
    {
     "data": {
      "text/plain": [
       "1"
      ]
     },
     "execution_count": 9,
     "metadata": {},
     "output_type": "execute_result"
    }
   ],
   "source": [
    "pkt[BGPUpdate].path_attr[1].attribute.segments[0].segment_length"
   ]
  },
  {
   "cell_type": "code",
   "execution_count": 184,
   "metadata": {},
   "outputs": [
    {
     "data": {
      "text/plain": [
       "[<BGPNLRI_IPv4  prefix=10.150.0.0/24 |>]"
      ]
     },
     "execution_count": 184,
     "metadata": {},
     "output_type": "execute_result"
    }
   ],
   "source": [
    "pkt[BGPUpdate].nlri"
   ]
  },
  {
   "cell_type": "code",
   "execution_count": 148,
   "metadata": {},
   "outputs": [
    {
     "name": "stdout",
     "output_type": "stream",
     "text": [
      "###[ IPv4 NLRI ]### \n",
      "  prefix    = 10.150.0.0/24\n",
      "\n",
      "None\n"
     ]
    }
   ],
   "source": [
    "for nlri in pkt[BGPUpdate].nlri:\n",
    "    print(nlri.show())"
   ]
  },
  {
   "cell_type": "code",
   "execution_count": 681,
   "metadata": {},
   "outputs": [
    {
     "name": "stdout",
     "output_type": "stream",
     "text": [
      "b'\\x18\\n\\x96\\x00'\n",
      "###[ IPv4 NLRI ]### \n",
      "  prefix    = 10.150.0.0/24\n",
      "\n",
      "nlri to remove: b'\\x19\\n\\x98\\x00\\x00'\n"
     ]
    }
   ],
   "source": [
    "nlri = pkt[BGPUpdate].nlri[0]\n",
    "print(bytes(nlri))\n",
    "nlri.show()\n",
    "\n",
    "nlri_hijack = p_hijack[BGPUpdate].nlri[0]\n",
    "print('nlri to remove: ' + str(bytes(nlri_hijack)))\n",
    "nlri_hijack_bytes = bytes(nlri_hijack)"
   ]
  },
  {
   "cell_type": "code",
   "execution_count": 197,
   "metadata": {},
   "outputs": [
    {
     "data": {
      "text/plain": [
       "scapy.contrib.bgp.BGPNLRI_IPv4"
      ]
     },
     "execution_count": 197,
     "metadata": {},
     "output_type": "execute_result"
    }
   ],
   "source": [
    "type(nlri)"
   ]
  },
  {
   "cell_type": "code",
   "execution_count": 199,
   "metadata": {},
   "outputs": [
    {
     "name": "stderr",
     "output_type": "stream",
     "text": [
      "WARNING: Calling str(pkt) on Python 3 makes no sense!\n"
     ]
    },
    {
     "name": "stdout",
     "output_type": "stream",
     "text": [
      "b'\\x18\\n\\x96\\x00'\n",
      "###[ IPv4 NLRI ]### \n",
      "  prefix    = 10.150.0.0/24\n",
      "\n",
      "None\n"
     ]
    }
   ],
   "source": [
    "print(nlri)\n",
    "print(nlri.show())"
   ]
  },
  {
   "cell_type": "code",
   "execution_count": 538,
   "metadata": {},
   "outputs": [
    {
     "name": "stderr",
     "output_type": "stream",
     "text": [
      "WARNING: Calling str(pkt) on Python 3 makes no sense!\n"
     ]
    },
    {
     "name": "stdout",
     "output_type": "stream",
     "text": [
      "b'\\x18\\n\\x96\\x01'\n",
      "b'\\x18\\n\\x96\\x01'\n",
      "b'\\x18\\n\\x96\\x01'\n"
     ]
    }
   ],
   "source": [
    "# new_nlri = BGPFieldIPv4(\"prefix\", \"10.150.1.1/25\")\n",
    "new_nlri = BGPNLRI_IPv4(prefix=\"10.150.1.0/24\")\n",
    "print(new_nlri)\n",
    "type(new_nlri)\n",
    "new_nlri_bytes = bytes(new_nlri)\n",
    "new_nlri_raw = raw(new_nlri)\n",
    "print(new_nlri_bytes)\n",
    "print(new_nlri_raw)\n",
    "# print(new_nlri.prefix)"
   ]
  },
  {
   "cell_type": "code",
   "execution_count": 325,
   "metadata": {},
   "outputs": [
    {
     "data": {
      "text/plain": [
       "130"
      ]
     },
     "execution_count": 325,
     "metadata": {},
     "output_type": "execute_result"
    }
   ],
   "source": [
    "len(pkt)"
   ]
  },
  {
   "cell_type": "code",
   "execution_count": 378,
   "metadata": {},
   "outputs": [],
   "source": [
    "del  pkt[BGPUpdate].nlri[0]\n",
    "# if len(eval(cmd).nlri[num]) == 0:\n",
    "#   eval(cmd).nlri[0].prefix.append('0.0.0.0/0')"
   ]
  },
  {
   "cell_type": "code",
   "execution_count": 372,
   "metadata": {},
   "outputs": [
    {
     "data": {
      "text/plain": [
       "[scapy.packet.Raw]"
      ]
     },
     "execution_count": 372,
     "metadata": {},
     "output_type": "execute_result"
    }
   ],
   "source": [
    "pkt[BGPUpdate].nlri"
   ]
  },
  {
   "cell_type": "code",
   "execution_count": 382,
   "metadata": {},
   "outputs": [],
   "source": [
    "pkt[BGPUpdate].nlri.append(new_nlri)\n",
    "# pkt[BGPUpdate].nlri.append(new_nlri_bytes)\n"
   ]
  },
  {
   "cell_type": "code",
   "execution_count": 370,
   "metadata": {},
   "outputs": [],
   "source": [
    "new_nlri = new_nlri.default_payload_class(pkt[BGPUpdate])"
   ]
  },
  {
   "cell_type": "code",
   "execution_count": 371,
   "metadata": {},
   "outputs": [],
   "source": [
    "pkt[BGPUpdate].nlri[0] = new_nlri"
   ]
  },
  {
   "cell_type": "code",
   "execution_count": 255,
   "metadata": {
    "scrolled": true
   },
   "outputs": [
    {
     "name": "stdout",
     "output_type": "stream",
     "text": [
      "b'\\x18\\n\\x96\\x00'\n",
      "b'\\x18\\n\\x96\\x01'\n"
     ]
    }
   ],
   "source": [
    "print(bytes(pkt[BGPUpdate].nlri[0]))\n",
    "print(bytes(pkt[BGPUpdate].nlri[1]))\n"
   ]
  },
  {
   "cell_type": "code",
   "execution_count": 353,
   "metadata": {},
   "outputs": [],
   "source": [
    "del pkt[IP].chksum\n",
    "del pkt[TCP].chksum\n",
    "del pkt[IP].len"
   ]
  },
  {
   "cell_type": "code",
   "execution_count": 373,
   "metadata": {},
   "outputs": [
    {
     "ename": "TypeError",
     "evalue": "Packet.show2() missing 1 required positional argument: 'self'",
     "output_type": "error",
     "traceback": [
      "\u001b[0;31m---------------------------------------------------------------------------\u001b[0m",
      "\u001b[0;31mTypeError\u001b[0m                                 Traceback (most recent call last)",
      "Cell \u001b[0;32mIn [373], line 2\u001b[0m\n\u001b[1;32m      1\u001b[0m \u001b[38;5;66;03m# pkt[BGPUpdate].nlri.append(new_nlri)\u001b[39;00m\n\u001b[0;32m----> 2\u001b[0m \u001b[43mpkt\u001b[49m\u001b[43m[\u001b[49m\u001b[43mBGPUpdate\u001b[49m\u001b[43m]\u001b[49m\u001b[38;5;241;43m.\u001b[39;49m\u001b[43mnlri\u001b[49m\u001b[43m[\u001b[49m\u001b[38;5;241;43m0\u001b[39;49m\u001b[43m]\u001b[49m\u001b[38;5;241;43m.\u001b[39;49m\u001b[43mshow2\u001b[49m\u001b[43m(\u001b[49m\u001b[43m)\u001b[49m\n\u001b[1;32m      3\u001b[0m pkt[BGPUpdate]\u001b[38;5;241m.\u001b[39mshow2()\n",
      "\u001b[0;31mTypeError\u001b[0m: Packet.show2() missing 1 required positional argument: 'self'"
     ]
    }
   ],
   "source": [
    "# pkt[BGPUpdate].nlri.append(new_nlri)\n",
    "pkt[BGPUpdate].nlri[0].show2()\n",
    "pkt[BGPUpdate].show2()"
   ]
  },
  {
   "cell_type": "code",
   "execution_count": 536,
   "metadata": {},
   "outputs": [
    {
     "name": "stdout",
     "output_type": "stream",
     "text": [
      "###[ cooked linux ]### \n",
      "  pkttype   = unicast\n",
      "  lladdrtype= 0x1\n",
      "  lladdrlen = 6\n",
      "  src       = '\\x02B\\nh\\x00\\x0c'\n",
      "  proto     = IPv4\n",
      "###[ IP ]### \n",
      "     version   = 4\n",
      "     ihl       = 5\n",
      "     tos       = 0xc0\n",
      "     len       = 641\n",
      "     id        = 4998\n",
      "     flags     = DF\n",
      "     frag      = 0\n",
      "     ttl       = 1\n",
      "     proto     = tcp\n",
      "     chksum    = 0x4db2\n",
      "     src       = 10.104.0.12\n",
      "     dst       = 10.104.0.164\n",
      "     \\options   \\\n",
      "###[ TCP ]### \n",
      "        sport     = bgp\n",
      "        dport     = 59473\n",
      "        seq       = 2063855751\n",
      "        ack       = 61297140\n",
      "        dataofs   = 8\n",
      "        reserved  = 0\n",
      "        flags     = PA\n",
      "        window    = 510\n",
      "        chksum    = 0x17f3\n",
      "        urgptr    = 0\n",
      "        options   = [('NOP', None), ('NOP', None), ('Timestamp', (3262136288, 1326917326))]\n",
      "###[ HEADER ]### \n",
      "           marker    = 0xffffffffffffffffffffffffffffffff\n",
      "           len       = 152\n",
      "           type      = UPDATE\n",
      "###[ UPDATE ]### \n",
      "              withdrawn_routes_len= 0\n",
      "              \\withdrawn_routes\\\n",
      "              path_attr_len= 83\n",
      "              \\path_attr \\\n",
      "               |###[ BGPPathAttr ]### \n",
      "               |  type_flags= Transitive\n",
      "               |  type_code = ORIGIN\n",
      "               |  attr_len  = 1\n",
      "               |  \\attribute \\\n",
      "               |   |###[ ORIGIN ]### \n",
      "               |   |  origin    = IGP\n",
      "               |###[ BGPPathAttr ]### \n",
      "               |  type_flags= Transitive\n",
      "               |  type_code = AS_PATH\n",
      "               |  attr_len  = 18\n",
      "               |  \\attribute \\\n",
      "               |   |###[ AS_PATH (RFC 4271) ]### \n",
      "               |   |  \\segments  \\\n",
      "               |   |   |###[ ASPathSegment ]### \n",
      "               |   |   |  segment_type= AS_SEQUENCE\n",
      "               |   |   |  segment_length= 4\n",
      "               |   |   |  segment_value= [0, 12, 0, 3]\n",
      "               |   |   |###[ ASPathSegment ]### \n",
      "               |   |   |  segment_type= 0\n",
      "               |   |   |  segment_length= 0\n",
      "               |   |   |  segment_value= []\n",
      "               |   |   |###[ ASPathSegment ]### \n",
      "               |   |   |  segment_type= 0\n",
      "               |   |   |  segment_length= 11\n",
      "               |   |   |  segment_value= [0, 11872]\n",
      "               |###[ BGPPathAttr ]### \n",
      "               |  type_flags= Transitive\n",
      "               |  type_code = NEXT_HOP\n",
      "               |  attr_len  = 4\n",
      "               |  \\attribute \\\n",
      "               |   |###[ NEXT_HOP ]### \n",
      "               |   |  next_hop  = 10.104.0.12\n",
      "               |###[ BGPPathAttr ]### \n",
      "               |  type_flags= Transitive+Optional\n",
      "               |  type_code = 32\n",
      "               |  attr_len  = 48\n",
      "               |  \\attribute \\\n",
      "               |   |###[ Raw ]### \n",
      "               |   |  load      = '\\x00\\x00\\x00\\x03\\x00\\x00\\x00\\x01\\x00\\x00\\x00\\x00\\x00\\x00\\x00\\x0b\\x00\\x00\\x00\\x01\\x00\\x00\\x00\\x00\\x00\\x00\\x00\\x0c\\x00\\x00\\x00\\x03\\x00\\x00\\x00\\x00\\x00\\x00.`\\x00\\x00\\x00\\x00\\x00\\x00\\x00\\x00'\n",
      "              \\nlri      \\\n",
      "               |###[ IPv4 NLRI ]### \n",
      "               |  prefix    = 128.230.192.0/18\n",
      "               |###[ IPv4 NLRI ]### \n",
      "               |  prefix    = 149.119.128.0/18\n",
      "               |###[ IPv4 NLRI ]### \n",
      "               |  prefix    = 149.119.64.0/18\n",
      "               |###[ IPv4 NLRI ]### \n",
      "               |  prefix    = 128.230.128.0/18\n",
      "               |###[ IPv4 NLRI ]### \n",
      "               |  prefix    = 128.230.64.0/18\n",
      "               |###[ IPv4 NLRI ]### \n",
      "               |  prefix    = 128.230.60.0/24\n",
      "               |###[ IPv4 NLRI ]### \n",
      "               |  prefix    = 149.119.192.0/18\n",
      "               |###[ IPv4 NLRI ]### \n",
      "               |  prefix    = 74.80.186.0/24\n",
      "               |###[ IPv4 NLRI ]### \n",
      "               |  prefix    = 149.119.0.0/16\n",
      "               |###[ IPv4 NLRI ]### \n",
      "               |  prefix    = 149.119.0.0/18\n",
      "               |###[ IPv4 NLRI ]### \n",
      "               |  prefix    = 128.230.0.0/16\n",
      "               |###[ IPv4 NLRI ]### \n",
      "               |  prefix    = 128.230.0.0/18\n",
      "###[ HEADER ]### \n",
      "                 marker    = 0xffffffffffffffffffffffffffffffff\n",
      "                 len       = 90\n",
      "                 type      = UPDATE\n",
      "###[ UPDATE ]### \n",
      "                    withdrawn_routes_len= 0\n",
      "                    \\withdrawn_routes\\\n",
      "                    path_attr_len= 51\n",
      "                    \\path_attr \\\n",
      "                     |###[ BGPPathAttr ]### \n",
      "                     |  type_flags= Transitive\n",
      "                     |  type_code = ORIGIN\n",
      "                     |  attr_len  = 1\n",
      "                     |  \\attribute \\\n",
      "                     |   |###[ ORIGIN ]### \n",
      "                     |   |  origin    = IGP\n",
      "                     |###[ BGPPathAttr ]### \n",
      "                     |  type_flags= Transitive\n",
      "                     |  type_code = AS_PATH\n",
      "                     |  attr_len  = 10\n",
      "                     |  \\attribute \\\n",
      "                     |   |###[ AS_PATH (RFC 4271) ]### \n",
      "                     |   |  \\segments  \\\n",
      "                     |   |   |###[ ASPathSegment ]### \n",
      "                     |   |   |  segment_type= AS_SEQUENCE\n",
      "                     |   |   |  segment_length= 2\n",
      "                     |   |   |  segment_value= [0, 12]\n",
      "                     |   |   |###[ ASPathSegment ]### \n",
      "                     |   |   |  segment_type= 0\n",
      "                     |   |   |  segment_length= 0\n",
      "                     |   |   |  segment_value= []\n",
      "                     |   |   |###[ ASPathSegment ]### \n",
      "                     |   |   |  segment_type= 0\n",
      "                     |   |   |  segment_length= 3\n",
      "                     |   |   |  segment_value= []\n",
      "                     |###[ BGPPathAttr ]### \n",
      "                     |  type_flags= Transitive\n",
      "                     |  type_code = NEXT_HOP\n",
      "                     |  attr_len  = 4\n",
      "                     |  \\attribute \\\n",
      "                     |   |###[ NEXT_HOP ]### \n",
      "                     |   |  next_hop  = 10.104.0.12\n",
      "                     |###[ BGPPathAttr ]### \n",
      "                     |  type_flags= Transitive+Optional\n",
      "                     |  type_code = 32\n",
      "                     |  attr_len  = 24\n",
      "                     |  \\attribute \\\n",
      "                     |   |###[ Raw ]### \n",
      "                     |   |  load      = '\\x00\\x00\\x00\\x03\\x00\\x00\\x00\\x00\\x00\\x00\\x00\\x00\\x00\\x00\\x00\\x0c\\x00\\x00\\x00\\x03\\x00\\x00\\x00\\x00'\n",
      "                    \\nlri      \\\n",
      "                     |###[ IPv4 NLRI ]### \n",
      "                     |  prefix    = 10.3.0.0/24\n",
      "                     |###[ IPv4 NLRI ]### \n",
      "                     |  prefix    = 10.3.1.0/24\n",
      "                     |###[ IPv4 NLRI ]### \n",
      "                     |  prefix    = 10.3.2.0/24\n",
      "                     |###[ IPv4 NLRI ]### \n",
      "                     |  prefix    = 10.3.3.0/24\n",
      "###[ HEADER ]### \n",
      "                       marker    = 0xffffffffffffffffffffffffffffffff\n",
      "                       len       = 94\n",
      "                       type      = UPDATE\n",
      "###[ UPDATE ]### \n",
      "                          withdrawn_routes_len= 0\n",
      "                          \\withdrawn_routes\\\n",
      "                          path_attr_len= 67\n",
      "                          \\path_attr \\\n",
      "                           |###[ BGPPathAttr ]### \n",
      "                           |  type_flags= Transitive\n",
      "                           |  type_code = ORIGIN\n",
      "                           |  attr_len  = 1\n",
      "                           |  \\attribute \\\n",
      "                           |   |###[ ORIGIN ]### \n",
      "                           |   |  origin    = IGP\n",
      "                           |###[ BGPPathAttr ]### \n",
      "                           |  type_flags= Transitive\n",
      "                           |  type_code = AS_PATH\n",
      "                           |  attr_len  = 14\n",
      "                           |  \\attribute \\\n",
      "                           |   |###[ AS_PATH (RFC 4271) ]### \n",
      "                           |   |  \\segments  \\\n",
      "                           |   |   |###[ ASPathSegment ]### \n",
      "                           |   |   |  segment_type= AS_SEQUENCE\n",
      "                           |   |   |  segment_length= 3\n",
      "                           |   |   |  segment_value= [0, 12, 0]\n",
      "                           |   |   |###[ ASPathSegment ]### \n",
      "                           |   |   |  segment_type= 0\n",
      "                           |   |   |  segment_length= 3\n",
      "                           |   |   |  segment_value= [0, 11]\n",
      "                           |###[ BGPPathAttr ]### \n",
      "                           |  type_flags= Transitive\n",
      "                           |  type_code = NEXT_HOP\n",
      "                           |  attr_len  = 4\n",
      "                           |  \\attribute \\\n",
      "                           |   |###[ NEXT_HOP ]### \n",
      "                           |   |  next_hop  = 10.104.0.12\n",
      "                           |###[ BGPPathAttr ]### \n",
      "                           |  type_flags= Transitive+Optional\n",
      "                           |  type_code = 32\n",
      "                           |  attr_len  = 36\n",
      "                           |  \\attribute \\\n",
      "                           |   |###[ Raw ]### \n",
      "                           |   |  load      = '\\x00\\x00\\x00\\x03\\x00\\x00\\x00\\x01\\x00\\x00\\x00\\x00\\x00\\x00\\x00\\x0b\\x00\\x00\\x00\\x00\\x00\\x00\\x00\\x00\\x00\\x00\\x00\\x0c\\x00\\x00\\x00\\x03\\x00\\x00\\x00\\x00'\n",
      "                          \\nlri      \\\n",
      "                           |###[ IPv4 NLRI ]### \n",
      "                           |  prefix    = 10.11.0.0/24\n",
      "###[ HEADER ]### \n",
      "                             marker    = 0xffffffffffffffffffffffffffffffff\n",
      "                             len       = 82\n",
      "                             type      = UPDATE\n",
      "###[ UPDATE ]### \n",
      "                                withdrawn_routes_len= 0\n",
      "                                \\withdrawn_routes\\\n",
      "                                path_attr_len= 51\n",
      "                                \\path_attr \\\n",
      "                                 |###[ BGPPathAttr ]### \n",
      "                                 |  type_flags= Transitive\n",
      "                                 |  type_code = ORIGIN\n",
      "                                 |  attr_len  = 1\n",
      "                                 |  \\attribute \\\n",
      "                                 |   |###[ ORIGIN ]### \n",
      "                                 |   |  origin    = IGP\n",
      "                                 |###[ BGPPathAttr ]### \n",
      "                                 |  type_flags= Transitive\n",
      "                                 |  type_code = AS_PATH\n",
      "                                 |  attr_len  = 10\n",
      "                                 |  \\attribute \\\n",
      "                                 |   |###[ AS_PATH (RFC 4271) ]### \n",
      "                                 |   |  \\segments  \\\n",
      "                                 |   |   |###[ ASPathSegment ]### \n",
      "                                 |   |   |  segment_type= AS_SEQUENCE\n",
      "                                 |   |   |  segment_length= 2\n",
      "                                 |   |   |  segment_value= [0, 12]\n",
      "                                 |   |   |###[ ASPathSegment ]### \n",
      "                                 |   |   |  segment_type= 0\n",
      "                                 |   |   |  segment_length= 0\n",
      "                                 |   |   |  segment_value= []\n",
      "                                 |   |   |###[ ASPathSegment ]### \n",
      "                                 |   |   |  segment_type= 0\n",
      "                                 |   |   |  segment_length= 4\n",
      "                                 |   |   |  segment_value= []\n",
      "                                 |###[ BGPPathAttr ]### \n",
      "                                 |  type_flags= Transitive\n",
      "                                 |  type_code = NEXT_HOP\n",
      "                                 |  attr_len  = 4\n",
      "                                 |  \\attribute \\\n",
      "                                 |   |###[ NEXT_HOP ]### \n",
      "                                 |   |  next_hop  = 10.104.0.12\n",
      "                                 |###[ BGPPathAttr ]### \n",
      "                                 |  type_flags= Transitive+Optional\n",
      "                                 |  type_code = 32\n",
      "                                 |  attr_len  = 24\n",
      "                                 |  \\attribute \\\n",
      "                                 |   |###[ Raw ]### \n",
      "                                 |   |  load      = '\\x00\\x00\\x00\\x04\\x00\\x00\\x00\\x00\\x00\\x00\\x00\\x00\\x00\\x00\\x00\\x0c\\x00\\x00\\x00\\x03\\x00\\x00\\x00\\x00'\n",
      "                                \\nlri      \\\n",
      "                                 |###[ IPv4 NLRI ]### \n",
      "                                 |  prefix    = 10.4.0.0/24\n",
      "                                 |###[ IPv4 NLRI ]### \n",
      "                                 |  prefix    = 10.4.1.0/24\n",
      "###[ HEADER ]### \n",
      "                                   marker    = 0xffffffffffffffffffffffffffffffff\n",
      "                                   len       = 62\n",
      "                                   type      = UPDATE\n",
      "###[ UPDATE ]### \n",
      "                                      withdrawn_routes_len= 0\n",
      "                                      \\withdrawn_routes\\\n",
      "                                      path_attr_len= 35\n",
      "                                      \\path_attr \\\n",
      "                                       |###[ BGPPathAttr ]### \n",
      "                                       |  type_flags= Transitive\n",
      "                                       |  type_code = ORIGIN\n",
      "                                       |  attr_len  = 1\n",
      "                                       |  \\attribute \\\n",
      "                                       |   |###[ ORIGIN ]### \n",
      "                                       |   |  origin    = IGP\n",
      "                                       |###[ BGPPathAttr ]### \n",
      "                                       |  type_flags= Transitive\n",
      "                                       |  type_code = AS_PATH\n",
      "                                       |  attr_len  = 6\n",
      "                                       |  \\attribute \\\n",
      "                                       |   |###[ AS_PATH (RFC 4271) ]### \n",
      "                                       |   |  \\segments  \\\n",
      "                                       |   |   |###[ ASPathSegment ]### \n",
      "                                       |   |   |  segment_type= AS_SEQUENCE\n",
      "                                       |   |   |  segment_length= 1\n",
      "                                       |   |   |  segment_value= [0]\n",
      "                                       |   |   |###[ ASPathSegment ]### \n",
      "                                       |   |   |  segment_type= 0\n",
      "                                       |   |   |  segment_length= 12\n",
      "                                       |   |   |  segment_value= []\n",
      "                                       |###[ BGPPathAttr ]### \n",
      "                                       |  type_flags= Transitive\n",
      "                                       |  type_code = NEXT_HOP\n",
      "                                       |  attr_len  = 4\n",
      "                                       |  \\attribute \\\n",
      "                                       |   |###[ NEXT_HOP ]### \n",
      "                                       |   |  next_hop  = 10.104.0.12\n",
      "                                       |###[ BGPPathAttr ]### \n",
      "                                       |  type_flags= Transitive+Optional\n",
      "                                       |  type_code = 32\n",
      "                                       |  attr_len  = 12\n",
      "                                       |  \\attribute \\\n",
      "                                       |   |###[ Raw ]### \n",
      "                                       |   |  load      = '\\x00\\x00\\x00\\x0c\\x00\\x00\\x00\\x00\\x00\\x00\\x00\\x00'\n",
      "                                      \\nlri      \\\n",
      "                                       |###[ IPv4 NLRI ]### \n",
      "                                       |  prefix    = 10.12.0.0/24\n",
      "###[ HEADER ]### \n",
      "                                         marker    = 0xffffffffffffffffffffffffffffffff\n",
      "                                         len       = 86\n",
      "                                         type      = UPDATE\n",
      "###[ UPDATE ]### \n",
      "                                            withdrawn_routes_len= 0\n",
      "                                            \\withdrawn_routes\\\n",
      "                                            path_attr_len= 51\n",
      "                                            \\path_attr \\\n",
      "                                             |###[ BGPPathAttr ]### \n",
      "                                             |  type_flags= Transitive\n",
      "                                             |  type_code = ORIGIN\n",
      "                                             |  attr_len  = 1\n",
      "                                             |  \\attribute \\\n",
      "                                             |   |###[ ORIGIN ]### \n",
      "                                             |   |  origin    = IGP\n",
      "                                             |###[ BGPPathAttr ]### \n",
      "                                             |  type_flags= Transitive\n",
      "                                             |  type_code = AS_PATH\n",
      "                                             |  attr_len  = 10\n",
      "                                             |  \\attribute \\\n",
      "                                             |   |###[ AS_PATH (RFC 4271) ]### \n",
      "                                             |   |  \\segments  \\\n",
      "                                             |   |   |###[ ASPathSegment ]### \n",
      "                                             |   |   |  segment_type= AS_SEQUENCE\n",
      "                                             |   |   |  segment_length= 2\n",
      "                                             |   |   |  segment_value= [0, 12]\n",
      "                                             |   |   |###[ ASPathSegment ]### \n",
      "                                             |   |   |  segment_type= 0\n",
      "                                             |   |   |  segment_length= 0\n",
      "                                             |   |   |  segment_value= []\n",
      "                                             |   |   |###[ ASPathSegment ]### \n",
      "                                             |   |   |  segment_type= 0\n",
      "                                             |   |   |  segment_length= 2\n",
      "                                             |   |   |  segment_value= []\n",
      "                                             |###[ BGPPathAttr ]### \n",
      "                                             |  type_flags= Transitive\n",
      "                                             |  type_code = NEXT_HOP\n",
      "                                             |  attr_len  = 4\n",
      "                                             |  \\attribute \\\n",
      "                                             |   |###[ NEXT_HOP ]### \n",
      "                                             |   |  next_hop  = 10.104.0.12\n",
      "                                             |###[ BGPPathAttr ]### \n",
      "                                             |  type_flags= Transitive+Optional\n",
      "                                             |  type_code = 32\n",
      "                                             |  attr_len  = 24\n",
      "                                             |  \\attribute \\\n",
      "                                             |   |###[ Raw ]### \n",
      "                                             |   |  load      = '\\x00\\x00\\x00\\x02\\x00\\x00\\x00\\x00\\x00\\x00\\x00\\x00\\x00\\x00\\x00\\x0c\\x00\\x00\\x00\\x03\\x00\\x00\\x00\\x00'\n",
      "                                            \\nlri      \\\n",
      "                                             |###[ IPv4 NLRI ]### \n",
      "                                             |  prefix    = 10.2.0.0/24\n",
      "                                             |###[ IPv4 NLRI ]### \n",
      "                                             |  prefix    = 10.2.1.0/24\n",
      "                                             |###[ IPv4 NLRI ]### \n",
      "                                             |  prefix    = 10.2.2.0/24\n",
      "###[ HEADER ]### \n",
      "                                               marker    = 0xffffffffffffffffffffffffffffffff\n",
      "                                               len       = 23\n",
      "                                               type      = UPDATE\n",
      "###[ UPDATE ]### \n",
      "                                                  withdrawn_routes_len= 0\n",
      "                                                  \\withdrawn_routes\\\n",
      "                                                  path_attr_len= 0\n",
      "                                                  \\path_attr \\\n",
      "                                                  \\nlri      \\\n",
      "\n"
     ]
    }
   ],
   "source": [
    "p_nlri.show2()"
   ]
  },
  {
   "cell_type": "code",
   "execution_count": 535,
   "metadata": {},
   "outputs": [
    {
     "name": "stdout",
     "output_type": "stream",
     "text": [
      "###[ cooked linux ]### \n",
      "  pkttype   = sent-by-us\n",
      "  lladdrtype= 0x1\n",
      "  lladdrlen = 6\n",
      "  src       = '\\x02B\\nd\\x00\\\\x96'\n",
      "  proto     = IPv4\n",
      "###[ IP ]### \n",
      "     version   = 4\n",
      "     ihl       = 5\n",
      "     tos       = 0xc0\n",
      "     len       = 114\n",
      "     id        = 16538\n",
      "     flags     = DF\n",
      "     frag      = 0\n",
      "     ttl       = 1\n",
      "     proto     = tcp\n",
      "     chksum    = 0x226b\n",
      "     src       = 10.100.0.150\n",
      "     dst       = 10.100.0.100\n",
      "     \\options   \\\n",
      "###[ TCP ]### \n",
      "        sport     = 55713\n",
      "        dport     = bgp\n",
      "        seq       = 548780263\n",
      "        ack       = 1635794624\n",
      "        dataofs   = 8\n",
      "        reserved  = 0\n",
      "        flags     = PA\n",
      "        window    = 502\n",
      "        chksum    = 0x1626\n",
      "        urgptr    = 0\n",
      "        options   = [('NOP', None), ('NOP', None), ('Timestamp', (621282715, 795365190))]\n",
      "###[ HEADER ]### \n",
      "           marker    = 0xffffffffffffffffffffffffffffffff\n",
      "           len       = 62\n",
      "           type      = UPDATE\n",
      "###[ UPDATE ]### \n",
      "              withdrawn_routes_len= 0\n",
      "              \\withdrawn_routes\\\n",
      "              path_attr_len= 35\n",
      "              \\path_attr \\\n",
      "               |###[ BGPPathAttr ]### \n",
      "               |  type_flags= Transitive\n",
      "               |  type_code = ORIGIN\n",
      "               |  attr_len  = 1\n",
      "               |  \\attribute \\\n",
      "               |   |###[ ORIGIN ]### \n",
      "               |   |  origin    = IGP\n",
      "               |###[ BGPPathAttr ]### \n",
      "               |  type_flags= Transitive\n",
      "               |  type_code = AS_PATH\n",
      "               |  attr_len  = 6\n",
      "               |  \\attribute \\\n",
      "               |   |###[ AS_PATH (RFC 4271) ]### \n",
      "               |   |  \\segments  \\\n",
      "               |   |   |###[ ASPathSegment ]### \n",
      "               |   |   |  segment_type= AS_SEQUENCE\n",
      "               |   |   |  segment_length= 1\n",
      "               |   |   |  segment_value= [0]\n",
      "               |   |   |###[ ASPathSegment ]### \n",
      "               |   |   |  segment_type= 0\n",
      "               |   |   |  segment_length= 150\n",
      "               |   |   |  segment_value= []\n",
      "               |###[ BGPPathAttr ]### \n",
      "               |  type_flags= Transitive\n",
      "               |  type_code = NEXT_HOP\n",
      "               |  attr_len  = 4\n",
      "               |  \\attribute \\\n",
      "               |   |###[ NEXT_HOP ]### \n",
      "               |   |  next_hop  = 10.100.0.150\n",
      "               |###[ BGPPathAttr ]### \n",
      "               |  type_flags= Transitive+Optional\n",
      "               |  type_code = 32\n",
      "               |  attr_len  = 12\n",
      "               |  \\attribute \\\n",
      "               |   |###[ Raw ]### \n",
      "               |   |  load      = '\\x00\\x00\\x00\\\\x96\\x00\\x00\\x00\\x00\\x00\\x00\\x00\\x00'\n",
      "              \\nlri      \\\n",
      "               |###[ IPv4 NLRI ]### \n",
      "               |  prefix    = 10.150.0.0/24\n",
      "\n"
     ]
    }
   ],
   "source": [
    "pkt.show2()"
   ]
  },
  {
   "cell_type": "code",
   "execution_count": 633,
   "metadata": {},
   "outputs": [
    {
     "name": "stdout",
     "output_type": "stream",
     "text": [
      "###[ cooked linux ]### \n",
      "  pkttype   = sent-by-us\n",
      "  lladdrtype= 0x1\n",
      "  lladdrlen = 6\n",
      "  src       = '\\x02B\\nd\\x00\\\\x97'\n",
      "  proto     = IPv4\n",
      "###[ IP ]### \n",
      "     version   = 4\n",
      "     ihl       = 5\n",
      "     tos       = 0xc0\n",
      "     len       = 119\n",
      "     id        = 11230\n",
      "     flags     = DF\n",
      "     frag      = 0\n",
      "     ttl       = 1\n",
      "     proto     = tcp\n",
      "     chksum    = 0x3721\n",
      "     src       = 10.100.0.151\n",
      "     dst       = 10.100.0.100\n",
      "     \\options   \\\n",
      "###[ TCP ]### \n",
      "        sport     = bgp\n",
      "        dport     = 39055\n",
      "        seq       = 2321666824\n",
      "        ack       = 2277178902\n",
      "        dataofs   = 8\n",
      "        reserved  = 0\n",
      "        flags     = PA\n",
      "        window    = 509\n",
      "        chksum    = 0x8d0\n",
      "        urgptr    = 0\n",
      "        options   = [('NOP', None), ('NOP', None), ('Timestamp', (1664964607, 674672228))]\n",
      "###[ HEADER ]### \n",
      "           marker    = 0xffffffffffffffffffffffffffffffff\n",
      "           len       = 67\n",
      "           type      = UPDATE\n",
      "###[ UPDATE ]### \n",
      "              withdrawn_routes_len= 0\n",
      "              \\withdrawn_routes\\\n",
      "              path_attr_len= 35\n",
      "              \\path_attr \\\n",
      "               |###[ BGPPathAttr ]### \n",
      "               |  type_flags= Transitive\n",
      "               |  type_code = ORIGIN\n",
      "               |  attr_len  = 1\n",
      "               |  \\attribute \\\n",
      "               |   |###[ ORIGIN ]### \n",
      "               |   |  origin    = IGP\n",
      "               |###[ BGPPathAttr ]### \n",
      "               |  type_flags= Transitive\n",
      "               |  type_code = AS_PATH\n",
      "               |  attr_len  = 6\n",
      "               |  \\attribute \\\n",
      "               |   |###[ AS_PATH (RFC 4271) ]### \n",
      "               |   |  \\segments  \\\n",
      "               |   |   |###[ ASPathSegment ]### \n",
      "               |   |   |  segment_type= AS_SEQUENCE\n",
      "               |   |   |  segment_length= 1\n",
      "               |   |   |  segment_value= [0]\n",
      "               |   |   |###[ ASPathSegment ]### \n",
      "               |   |   |  segment_type= 0\n",
      "               |   |   |  segment_length= 151\n",
      "               |   |   |  segment_value= []\n",
      "               |###[ BGPPathAttr ]### \n",
      "               |  type_flags= Transitive\n",
      "               |  type_code = NEXT_HOP\n",
      "               |  attr_len  = 4\n",
      "               |  \\attribute \\\n",
      "               |   |###[ NEXT_HOP ]### \n",
      "               |   |  next_hop  = 10.100.0.151\n",
      "               |###[ BGPPathAttr ]### \n",
      "               |  type_flags= Transitive+Optional\n",
      "               |  type_code = 32\n",
      "               |  attr_len  = 12\n",
      "               |  \\attribute \\\n",
      "               |   |###[ Raw ]### \n",
      "               |   |  load      = '\\x00\\x00\\x00\\\\x97\\x00\\x00\\x00\\x00\\x00\\x00\\x00\\x00'\n",
      "              \\nlri      \\\n",
      "               |###[ IPv4 NLRI ]### \n",
      "               |  prefix    = 10.152.0.0/25\n",
      "               |###[ IPv4 NLRI ]### \n",
      "               |  prefix    = 10.151.0.0/24\n",
      "\n",
      "b'\\x00\\x04\\x00\\x01\\x00\\x06\\x02B\\nd\\x00\\x97\\x00\\x00\\x08\\x00E\\xc0\\x00w+\\xde@\\x00\\x01\\x067!\\nd\\x00\\x97\\nd\\x00d\\x00\\xb3\\x98\\x8f\\x8aa\\xd3\\x08\\x87\\xba\\xfe\\x16\\x80\\x18\\x01\\xfd\\x08\\xd0\\x00\\x00\\x01\\x01\\x08\\nc=W\\xff(6\\xaed\\xff\\xff\\xff\\xff\\xff\\xff\\xff\\xff\\xff\\xff\\xff\\xff\\xff\\xff\\xff\\xff\\x00C\\x02\\x00\\x00\\x00#@\\x01\\x01\\x00@\\x02\\x06\\x02\\x01\\x00\\x00\\x00\\x97@\\x03\\x04\\nd\\x00\\x97\\xc0 \\x0c\\x00\\x00\\x00\\x97\\x00\\x00\\x00\\x00\\x00\\x00\\x00\\x00\\x19\\n\\x98\\x00\\x00\\x18\\n\\x97\\x00'\n",
      "\n",
      "bytearray(b'\\x00\\x04\\x00\\x01\\x00\\x06\\x02B\\nd\\x00\\x97\\x00\\x00\\x08\\x00E\\xc0\\x00w+\\xde@\\x00\\x01\\x067!\\nd\\x00\\x97\\nd\\x00d\\x00\\xb3\\x98\\x8f\\x8aa\\xd3\\x08\\x87\\xba\\xfe\\x16\\x80\\x18\\x01\\xfd\\x08\\xd0\\x00\\x00\\x01\\x01\\x08\\nc=W\\xff(6\\xaed\\xff\\xff\\xff\\xff\\xff\\xff\\xff\\xff\\xff\\xff\\xff\\xff\\xff\\xff\\xff\\xff\\x00C\\x02\\x00\\x00\\x00#@\\x01\\x01\\x00@\\x02\\x06\\x02\\x01\\x00\\x00\\x00\\x97@\\x03\\x04\\nd\\x00\\x97\\xc0 \\x0c\\x00\\x00\\x00\\x97\\x00\\x00\\x00\\x00\\x00\\x00\\x00\\x00\\x19\\n\\x98\\x00\\x00\\x18\\n\\x97\\x00')\n",
      "135\n",
      "bytearray(b'\\x19\\n\\x98\\x00\\x00')\n",
      "bytearray(b'\\x00\\x04\\x00\\x01\\x00\\x06\\x02B\\nd\\x00\\x97\\x00\\x00\\x08\\x00E\\xc0\\x00w+\\xde@\\x00\\x01\\x067!\\nd\\x00\\x97\\nd\\x00d\\x00\\xb3\\x98\\x8f\\x8aa\\xd3\\x08\\x87\\xba\\xfe\\x16\\x80\\x18\\x01\\xfd\\x08\\xd0\\x00\\x00\\x01\\x01\\x08\\nc=W\\xff(6\\xaed\\xff\\xff\\xff\\xff\\xff\\xff\\xff\\xff\\xff\\xff\\xff\\xff\\xff\\xff\\xff\\xff\\x00C\\x02\\x00\\x00\\x00#@\\x01\\x01\\x00@\\x02\\x06\\x02\\x01\\x00\\x00\\x00\\x97@\\x03\\x04\\nd\\x00\\x97\\xc0 \\x0c\\x00\\x00\\x00\\x97\\x00\\x00\\x00\\x00\\x00\\x00\\x00\\x00\\x18\\n\\x97\\x00')\n",
      "###[ cooked linux ]### \n",
      "  pkttype   = sent-by-us\n",
      "  lladdrtype= 0x1\n",
      "  lladdrlen = 6\n",
      "  src       = '\\x02B\\nd\\x00\\\\x97'\n",
      "  proto     = IPv4\n",
      "###[ IP ]### \n",
      "     version   = 4\n",
      "     ihl       = 5\n",
      "     tos       = 0xc0\n",
      "     len       = 119\n",
      "     id        = 11230\n",
      "     flags     = DF\n",
      "     frag      = 0\n",
      "     ttl       = 1\n",
      "     proto     = tcp\n",
      "     chksum    = 0x3721\n",
      "     src       = 10.100.0.151\n",
      "     dst       = 10.100.0.100\n",
      "     \\options   \\\n",
      "###[ TCP ]### \n",
      "        sport     = bgp\n",
      "        dport     = 39055\n",
      "        seq       = 2321666824\n",
      "        ack       = 2277178902\n",
      "        dataofs   = 8\n",
      "        reserved  = 0\n",
      "        flags     = PA\n",
      "        window    = 509\n",
      "        chksum    = 0x8d0\n",
      "        urgptr    = 0\n",
      "        options   = [('NOP', None), ('NOP', None), ('Timestamp', (1664964607, 674672228))]\n",
      "###[ HEADER ]### \n",
      "           marker    = 0xffffffffffffffffffffffffffffffff\n",
      "           len       = 62\n",
      "           type      = UPDATE\n",
      "###[ UPDATE ]### \n",
      "              withdrawn_routes_len= 0\n",
      "              \\withdrawn_routes\\\n",
      "              path_attr_len= 35\n",
      "              \\path_attr \\\n",
      "               |###[ BGPPathAttr ]### \n",
      "               |  type_flags= Transitive\n",
      "               |  type_code = ORIGIN\n",
      "               |  attr_len  = 1\n",
      "               |  \\attribute \\\n",
      "               |   |###[ ORIGIN ]### \n",
      "               |   |  origin    = IGP\n",
      "               |###[ BGPPathAttr ]### \n",
      "               |  type_flags= Transitive\n",
      "               |  type_code = AS_PATH\n",
      "               |  attr_len  = 6\n",
      "               |  \\attribute \\\n",
      "               |   |###[ AS_PATH (RFC 4271) ]### \n",
      "               |   |  \\segments  \\\n",
      "               |   |   |###[ ASPathSegment ]### \n",
      "               |   |   |  segment_type= AS_SEQUENCE\n",
      "               |   |   |  segment_length= 1\n",
      "               |   |   |  segment_value= [0]\n",
      "               |   |   |###[ ASPathSegment ]### \n",
      "               |   |   |  segment_type= 0\n",
      "               |   |   |  segment_length= 151\n",
      "               |   |   |  segment_value= []\n",
      "               |###[ BGPPathAttr ]### \n",
      "               |  type_flags= Transitive\n",
      "               |  type_code = NEXT_HOP\n",
      "               |  attr_len  = 4\n",
      "               |  \\attribute \\\n",
      "               |   |###[ NEXT_HOP ]### \n",
      "               |   |  next_hop  = 10.100.0.151\n",
      "               |###[ BGPPathAttr ]### \n",
      "               |  type_flags= Transitive+Optional\n",
      "               |  type_code = 32\n",
      "               |  attr_len  = 12\n",
      "               |  \\attribute \\\n",
      "               |   |###[ Raw ]### \n",
      "               |   |  load      = '\\x00\\x00\\x00\\\\x97\\x00\\x00\\x00\\x00\\x00\\x00\\x00\\x00'\n",
      "              \\nlri      \\\n",
      "               |###[ IPv4 NLRI ]### \n",
      "               |  prefix    = 10.151.0.0/24\n",
      "\n"
     ]
    }
   ],
   "source": [
    "# del pkt[IP].chksum\n",
    "# del pkt[TCP].chksum\n",
    "# print(bytes(pkt))\n",
    "p_hijack = get_bgp_update_151_hijack_packet()\n",
    "p_hijack.show()\n",
    "print(bytes(p_hijack))\n",
    "p_hijack_bytes = bytearray(bytes(p_hijack))\n",
    "print()\n",
    "print(p_hijack_bytes)\n",
    "print(len(p_hijack_bytes))\n",
    "print(p_hijack_bytes[126:131])\n",
    "del p_hijack_bytes[126:131]\n",
    "print(p_hijack_bytes)\n",
    "p_hijack_reconstructed = CookedLinux(bytes(p_hijack_bytes))\n",
    "p_hijack_reconstructed[BGPHeader].len = p_hijack_reconstructed[BGPHeader].len - 5\n",
    "p_hijack_reconstructed.show2()"
   ]
  },
  {
   "cell_type": "code",
   "execution_count": 650,
   "metadata": {},
   "outputs": [
    {
     "name": "stdout",
     "output_type": "stream",
     "text": [
      "###[ cooked linux ]### \n",
      "  pkttype   = sent-by-us\n",
      "  lladdrtype= 0x1\n",
      "  lladdrlen = 6\n",
      "  src       = '\\x02B\\nd\\x00\\\\x97'\n",
      "  proto     = IPv4\n",
      "###[ IP ]### \n",
      "     version   = 4\n",
      "     ihl       = 5\n",
      "     tos       = 0xc0\n",
      "     len       = 119\n",
      "     id        = 11230\n",
      "     flags     = DF\n",
      "     frag      = 0\n",
      "     ttl       = 1\n",
      "     proto     = tcp\n",
      "     chksum    = 0x3721\n",
      "     src       = 10.100.0.151\n",
      "     dst       = 10.100.0.100\n",
      "     \\options   \\\n",
      "###[ TCP ]### \n",
      "        sport     = bgp\n",
      "        dport     = 39055\n",
      "        seq       = 2321666824\n",
      "        ack       = 2277178902\n",
      "        dataofs   = 8\n",
      "        reserved  = 0\n",
      "        flags     = PA\n",
      "        window    = 509\n",
      "        chksum    = 0x8d0\n",
      "        urgptr    = 0\n",
      "        options   = [('NOP', None), ('NOP', None), ('Timestamp', (1664964607, 674672228))]\n",
      "###[ HEADER ]### \n",
      "           marker    = 0xffffffffffffffffffffffffffffffff\n",
      "           len       = 67\n",
      "           type      = UPDATE\n",
      "###[ UPDATE ]### \n",
      "              withdrawn_routes_len= 0\n",
      "              \\withdrawn_routes\\\n",
      "              path_attr_len= 35\n",
      "              \\path_attr \\\n",
      "               |###[ BGPPathAttr ]### \n",
      "               |  type_flags= Transitive\n",
      "               |  type_code = ORIGIN\n",
      "               |  attr_len  = 1\n",
      "               |  \\attribute \\\n",
      "               |   |###[ ORIGIN ]### \n",
      "               |   |  origin    = IGP\n",
      "               |###[ BGPPathAttr ]### \n",
      "               |  type_flags= Transitive\n",
      "               |  type_code = AS_PATH\n",
      "               |  attr_len  = 6\n",
      "               |  \\attribute \\\n",
      "               |   |###[ AS_PATH (RFC 4271) ]### \n",
      "               |   |  \\segments  \\\n",
      "               |   |   |###[ ASPathSegment ]### \n",
      "               |   |   |  segment_type= AS_SEQUENCE\n",
      "               |   |   |  segment_length= 1\n",
      "               |   |   |  segment_value= [0]\n",
      "               |   |   |###[ ASPathSegment ]### \n",
      "               |   |   |  segment_type= 0\n",
      "               |   |   |  segment_length= 151\n",
      "               |   |   |  segment_value= []\n",
      "               |###[ BGPPathAttr ]### \n",
      "               |  type_flags= Transitive\n",
      "               |  type_code = NEXT_HOP\n",
      "               |  attr_len  = 4\n",
      "               |  \\attribute \\\n",
      "               |   |###[ NEXT_HOP ]### \n",
      "               |   |  next_hop  = 10.100.0.151\n",
      "               |###[ BGPPathAttr ]### \n",
      "               |  type_flags= Transitive+Optional\n",
      "               |  type_code = 32\n",
      "               |  attr_len  = 12\n",
      "               |  \\attribute \\\n",
      "               |   |###[ Raw ]### \n",
      "               |   |  load      = '\\x00\\x00\\x00\\\\x97\\x00\\x00\\x00\\x00\\x00\\x00\\x00\\x00'\n",
      "              \\nlri      \\\n",
      "               |###[ IPv4 NLRI ]### \n",
      "               |  prefix    = 10.152.0.0/25\n",
      "               |###[ IPv4 NLRI ]### \n",
      "               |  prefix    = 10.151.0.0/24\n",
      "\n",
      "b'\\x00\\x04\\x00\\x01\\x00\\x06\\x02B\\nd\\x00\\x97\\x00\\x00\\x08\\x00E\\xc0\\x00w+\\xde@\\x00\\x01\\x067!\\nd\\x00\\x97\\nd\\x00d\\x00\\xb3\\x98\\x8f\\x8aa\\xd3\\x08\\x87\\xba\\xfe\\x16\\x80\\x18\\x01\\xfd\\x08\\xd0\\x00\\x00\\x01\\x01\\x08\\nc=W\\xff(6\\xaed\\xff\\xff\\xff\\xff\\xff\\xff\\xff\\xff\\xff\\xff\\xff\\xff\\xff\\xff\\xff\\xff\\x00C\\x02\\x00\\x00\\x00#@\\x01\\x01\\x00@\\x02\\x06\\x02\\x01\\x00\\x00\\x00\\x97@\\x03\\x04\\nd\\x00\\x97\\xc0 \\x0c\\x00\\x00\\x00\\x97\\x00\\x00\\x00\\x00\\x00\\x00\\x00\\x00\\x19\\n\\x98\\x00\\x00\\x18\\n\\x97\\x00'\n",
      "135\n",
      "nlri to remove: b'\\x19\\n\\x98\\x00\\x00'\n",
      "1\n",
      "suhhhh\n",
      "126\n"
     ]
    }
   ],
   "source": [
    "p_hijack = get_bgp_update_151_hijack_packet()\n",
    "p_hijack.show2()\n",
    "print(bytes(p_hijack))\n",
    "print(len(p_hijack))\n",
    "nlri_hijack = p_hijack[BGPUpdate].nlri[0]\n",
    "print('nlri to remove: ' + str(bytes(nlri_hijack)))\n",
    "nlri_hijack_bytes = bytes(nlri_hijack)\n",
    "nlri_hijack_bytes_list = []\n",
    "nlri_hijack_bytes_list.append(nlri_hijack_bytes)\n",
    "print(len(nlri_hijack_bytes_list))\n",
    "p_hijack_bytes = bytearray(bytes(p_hijack))\n",
    "\n",
    "if nlri_hijack_bytes in p_hijack_bytes:\n",
    "    print(\"suhhhh\")\n",
    "#     p_hijack_bytes.remove(nlri_hijack_bytes)\n",
    "    index = p_hijack_bytes.index(nlri_hijack_bytes)\n",
    "    print(index)\n",
    "#     p_hijack_reconstructed = filter(lambda i: i not in nlri_hijack_bytes_list, p_hijack_bytes)\n",
    "#     p_hijack_reconstructed = CookedLinux(bytes(p_hijack_bytes))\n",
    "#     print(len(p_hijack_reconstructed))\n",
    "#     p_hijack_reconstructed[BGPHeader].len = p_hijack_reconstructed[BGPHeader].len - 5\n",
    "#     del pkt_reconstructed[IP].chksum\n",
    "#     del pkt_reconstructed[TCP].chksum \n",
    "#     pkt_reconstructed[IP].len = pkt_reconstructed[IP].len - 5\n",
    "#     pkt_reconstructed.show2()"
   ]
  },
  {
   "cell_type": "code",
   "execution_count": 690,
   "metadata": {},
   "outputs": [
    {
     "name": "stdout",
     "output_type": "stream",
     "text": [
      "b'E\\xc0\\x00w\\xec\\xd0@\\x00\\x01\\x06v.\\nd\\x00\\x97\\nd\\x00d\\x00\\xb3\\x89\\x1fj\\x19+\\xc4\\x93\\xc9\\xa4\\xe8\\x80\\x18\\x01\\xfd\\xb3\\xbb\\x00\\x00\\x01\\x01\\x08\\nc\\x8f\\x94F(\\x88\\xea\\xa9\\xff\\xff\\xff\\xff\\xff\\xff\\xff\\xff\\xff\\xff\\xff\\xff\\xff\\xff\\xff\\xff\\x00C\\x02\\x00\\x00\\x00#@\\x01\\x01\\x00@\\x02\\x06\\x02\\x01\\x00\\x00\\x00\\x97@\\x03\\x04\\nd\\x00\\x97\\xc0 \\x0c\\x00\\x00\\x00\\x97\\x00\\x00\\x00\\x00\\x00\\x00\\x00\\x00\\x19\\n\\x98\\x00\\x00\\x18\\n\\x97\\x00'\n",
      "###[ IP ]### \n",
      "  version   = 4\n",
      "  ihl       = 5\n",
      "  tos       = 0xc0\n",
      "  len       = 119\n",
      "  id        = 60624\n",
      "  flags     = DF\n",
      "  frag      = 0\n",
      "  ttl       = 1\n",
      "  proto     = tcp\n",
      "  chksum    = 0x762e\n",
      "  src       = 10.100.0.151\n",
      "  dst       = 10.100.0.100\n",
      "  \\options   \\\n",
      "###[ TCP ]### \n",
      "     sport     = bgp\n",
      "     dport     = 35103\n",
      "     seq       = 1780034500\n",
      "     ack       = 2479465704\n",
      "     dataofs   = 8\n",
      "     reserved  = 0\n",
      "     flags     = PA\n",
      "     window    = 509\n",
      "     chksum    = 0xb3bb\n",
      "     urgptr    = 0\n",
      "     options   = [('NOP', None), ('NOP', None), ('Timestamp', (1670353990, 680061609))]\n",
      "###[ HEADER ]### \n",
      "        marker    = 0xffffffffffffffffffffffffffffffff\n",
      "        len       = 67\n",
      "        type      = UPDATE\n",
      "###[ UPDATE ]### \n",
      "           withdrawn_routes_len= 0\n",
      "           \\withdrawn_routes\\\n",
      "           path_attr_len= 35\n",
      "           \\path_attr \\\n",
      "            |###[ BGPPathAttr ]### \n",
      "            |  type_flags= Transitive\n",
      "            |  type_code = ORIGIN\n",
      "            |  attr_len  = 1\n",
      "            |  \\attribute \\\n",
      "            |   |###[ ORIGIN ]### \n",
      "            |   |  origin    = IGP\n",
      "            |###[ BGPPathAttr ]### \n",
      "            |  type_flags= Transitive\n",
      "            |  type_code = AS_PATH\n",
      "            |  attr_len  = 6\n",
      "            |  \\attribute \\\n",
      "            |   |###[ AS_PATH (RFC 4271) ]### \n",
      "            |   |  \\segments  \\\n",
      "            |   |   |###[ ASPathSegment ]### \n",
      "            |   |   |  segment_type= AS_SEQUENCE\n",
      "            |   |   |  segment_length= 1\n",
      "            |   |   |  segment_value= [0]\n",
      "            |   |   |###[ ASPathSegment ]### \n",
      "            |   |   |  segment_type= 0\n",
      "            |   |   |  segment_length= 151\n",
      "            |   |   |  segment_value= []\n",
      "            |###[ BGPPathAttr ]### \n",
      "            |  type_flags= Transitive\n",
      "            |  type_code = NEXT_HOP\n",
      "            |  attr_len  = 4\n",
      "            |  \\attribute \\\n",
      "            |   |###[ NEXT_HOP ]### \n",
      "            |   |  next_hop  = 10.100.0.151\n",
      "            |###[ BGPPathAttr ]### \n",
      "            |  type_flags= Transitive+Optional\n",
      "            |  type_code = 32\n",
      "            |  attr_len  = 12\n",
      "            |  \\attribute \\\n",
      "            |   |###[ Raw ]### \n",
      "            |   |  load      = '\\x00\\x00\\x00\\\\x97\\x00\\x00\\x00\\x00\\x00\\x00\\x00\\x00'\n",
      "           \\nlri      \\\n",
      "            |###[ IPv4 NLRI ]### \n",
      "            |  prefix    = 10.152.0.0/25\n",
      "            |###[ IPv4 NLRI ]### \n",
      "            |  prefix    = 10.151.0.0/24\n",
      "\n",
      "nlri to remove: b'\\x19\\n\\x98\\x00\\x00'\n",
      "5\n",
      "110\n",
      "modify length of bgp packet\n",
      "###[ IP ]### \n",
      "  version   = 4\n",
      "  ihl       = 5\n",
      "  tos       = 0xc0\n",
      "  len       = 114\n",
      "  id        = 60624\n",
      "  flags     = DF\n",
      "  frag      = 0\n",
      "  ttl       = 1\n",
      "  proto     = tcp\n",
      "  chksum    = 0x7633\n",
      "  src       = 10.100.0.151\n",
      "  dst       = 10.100.0.100\n",
      "  \\options   \\\n",
      "###[ TCP ]### \n",
      "     sport     = bgp\n",
      "     dport     = 35103\n",
      "     seq       = 1780034500\n",
      "     ack       = 2479465704\n",
      "     dataofs   = 8\n",
      "     reserved  = 0\n",
      "     flags     = PA\n",
      "     window    = 509\n",
      "     chksum    = 0xc074\n",
      "     urgptr    = 0\n",
      "     options   = [('NOP', None), ('NOP', None), ('Timestamp', (1670353990, 680061609))]\n",
      "###[ HEADER ]### \n",
      "        marker    = 0xffffffffffffffffffffffffffffffff\n",
      "        len       = 62\n",
      "        type      = UPDATE\n",
      "###[ UPDATE ]### \n",
      "           withdrawn_routes_len= 0\n",
      "           \\withdrawn_routes\\\n",
      "           path_attr_len= 35\n",
      "           \\path_attr \\\n",
      "            |###[ BGPPathAttr ]### \n",
      "            |  type_flags= Transitive\n",
      "            |  type_code = ORIGIN\n",
      "            |  attr_len  = 1\n",
      "            |  \\attribute \\\n",
      "            |   |###[ ORIGIN ]### \n",
      "            |   |  origin    = IGP\n",
      "            |###[ BGPPathAttr ]### \n",
      "            |  type_flags= Transitive\n",
      "            |  type_code = AS_PATH\n",
      "            |  attr_len  = 6\n",
      "            |  \\attribute \\\n",
      "            |   |###[ AS_PATH (RFC 4271) ]### \n",
      "            |   |  \\segments  \\\n",
      "            |   |   |###[ ASPathSegment ]### \n",
      "            |   |   |  segment_type= AS_SEQUENCE\n",
      "            |   |   |  segment_length= 1\n",
      "            |   |   |  segment_value= [0]\n",
      "            |   |   |###[ ASPathSegment ]### \n",
      "            |   |   |  segment_type= 0\n",
      "            |   |   |  segment_length= 151\n",
      "            |   |   |  segment_value= []\n",
      "            |###[ BGPPathAttr ]### \n",
      "            |  type_flags= Transitive\n",
      "            |  type_code = NEXT_HOP\n",
      "            |  attr_len  = 4\n",
      "            |  \\attribute \\\n",
      "            |   |###[ NEXT_HOP ]### \n",
      "            |   |  next_hop  = 10.100.0.151\n",
      "            |###[ BGPPathAttr ]### \n",
      "            |  type_flags= Transitive+Optional\n",
      "            |  type_code = 32\n",
      "            |  attr_len  = 12\n",
      "            |  \\attribute \\\n",
      "            |   |###[ Raw ]### \n",
      "            |   |  load      = '\\x00\\x00\\x00\\\\x97\\x00\\x00\\x00\\x00\\x00\\x00\\x00\\x00'\n",
      "           \\nlri      \\\n",
      "            |###[ IPv4 NLRI ]### \n",
      "            |  prefix    = 10.151.0.0/24\n",
      "\n"
     ]
    }
   ],
   "source": [
    "p_hijack_bytes = b'E\\xc0\\x00w\\xec\\xd0@\\x00\\x01\\x06v.\\nd\\x00\\x97\\nd\\x00d\\x00\\xb3\\x89\\x1fj\\x19+\\xc4\\x93\\xc9\\xa4\\xe8\\x80\\x18\\x01\\xfd\\xb3\\xbb\\x00\\x00\\x01\\x01\\x08\\nc\\x8f\\x94F(\\x88\\xea\\xa9\\xff\\xff\\xff\\xff\\xff\\xff\\xff\\xff\\xff\\xff\\xff\\xff\\xff\\xff\\xff\\xff\\x00C\\x02\\x00\\x00\\x00#@\\x01\\x01\\x00@\\x02\\x06\\x02\\x01\\x00\\x00\\x00\\x97@\\x03\\x04\\nd\\x00\\x97\\xc0 \\x0c\\x00\\x00\\x00\\x97\\x00\\x00\\x00\\x00\\x00\\x00\\x00\\x00\\x19\\n\\x98\\x00\\x00\\x18\\n\\x97\\x00'\n",
    "print(p_hijack_bytes)\n",
    "p_hijack = IP(p_hijack_bytes)\n",
    "p_hijack.show2()\n",
    "p_hijack_bytes = bytearray(p_hijack_bytes)\n",
    "\n",
    "nlri_hijack = p_hijack[BGPUpdate].nlri[0]\n",
    "print('nlri to remove: ' + str(bytes(nlri_hijack)))\n",
    "# print('nlri to remove show: ' + nlri_hijack.show2())\n",
    "nlri_hijack_bytes = bytes(nlri_hijack)\n",
    "len_nlri_hijack_bytes = len(nlri_hijack_bytes)\n",
    "print(len_nlri_hijack_bytes)\n",
    "\n",
    "try:\n",
    "    index = p_hijack_bytes.index(nlri_hijack_bytes)\n",
    "    print(index)\n",
    "\n",
    "    del p_hijack_bytes[index:index+len_nlri_hijack_bytes]\n",
    "    pkt_reconstructed = IP(bytes(p_hijack_bytes))\n",
    "    print(\"modify length of bgp packet\")\n",
    "    pkt_reconstructed[BGPHeader].len = pkt_reconstructed[BGPHeader].len - 5\n",
    "    del pkt_reconstructed[IP].chksum\n",
    "    del pkt_reconstructed[TCP].chksum \n",
    "    pkt_reconstructed[IP].len = pkt_reconstructed[IP].len - 5\n",
    "    pkt_reconstructed.show2()\n",
    "except ValueError as v:\n",
    "    print(\"Error. nlri not found in packet. this is weird: \" + repr(v))\n",
    "    print(\"nlri not found:\")\n",
    "    nlri.show()\n",
    "#     print(\"nlri that is not found: \" + str(nlri_hijack.show()))\n"
   ]
  },
  {
   "cell_type": "code",
   "execution_count": 659,
   "metadata": {},
   "outputs": [
    {
     "name": "stdout",
     "output_type": "stream",
     "text": [
      "119\n",
      "bytearray(b'E\\xc0\\x00w\\xec\\xd0@\\x00\\x01\\x06v.\\nd\\x00\\x97\\nd\\x00d\\x00\\xb3\\x89\\x1fj\\x19+\\xc4\\x93\\xc9\\xa4\\xe8\\x80\\x18\\x01\\xfd\\xb3\\xbb\\x00\\x00\\x01\\x01\\x08\\nc\\x8f\\x94F(\\x88\\xea\\xa9\\xff\\xff\\xff\\xff\\xff\\xff\\xff\\xff\\xff\\xff\\xff\\xff\\xff\\xff\\xff\\xff\\x00C\\x02\\x00\\x00\\x00#@\\x01\\x01\\x00@\\x02\\x06\\x02\\x01\\x00\\x00\\x00\\x97@\\x03\\x04\\nd\\x00\\x97\\xc0 \\x0c\\x00\\x00\\x00\\x97\\x00\\x00\\x00\\x00\\x00\\x00\\x00\\x00\\x19\\n\\x98\\x00\\x00\\x18\\n\\x97\\x00')\n",
      "bytearray(b'\\x19\\n\\x98\\x00\\x00')\n",
      "###[ IP ]### \n",
      "  version   = 4\n",
      "  ihl       = 5\n",
      "  tos       = 0xc0\n",
      "  len       = 119\n",
      "  id        = 60624\n",
      "  flags     = DF\n",
      "  frag      = 0\n",
      "  ttl       = 1\n",
      "  proto     = tcp\n",
      "  chksum    = 0x762e\n",
      "  src       = 10.100.0.151\n",
      "  dst       = 10.100.0.100\n",
      "  \\options   \\\n",
      "###[ TCP ]### \n",
      "     sport     = bgp\n",
      "     dport     = 35103\n",
      "     seq       = 1780034500\n",
      "     ack       = 2479465704\n",
      "     dataofs   = 8\n",
      "     reserved  = 0\n",
      "     flags     = PA\n",
      "     window    = 509\n",
      "     chksum    = 0xb3bb\n",
      "     urgptr    = 0\n",
      "     options   = [('NOP', None), ('NOP', None), ('Timestamp', (1670353990, 680061609))]\n",
      "###[ HEADER ]### \n",
      "        marker    = 0xffffffffffffffffffffffffffffffff\n",
      "        len       = 67\n",
      "        type      = UPDATE\n",
      "###[ UPDATE ]### \n",
      "           withdrawn_routes_len= 0\n",
      "           \\withdrawn_routes\\\n",
      "           path_attr_len= 35\n",
      "           \\path_attr \\\n",
      "            |###[ BGPPathAttr ]### \n",
      "            |  type_flags= Transitive\n",
      "            |  type_code = ORIGIN\n",
      "            |  attr_len  = 1\n",
      "            |  \\attribute \\\n",
      "            |   |###[ ORIGIN ]### \n",
      "            |   |  origin    = IGP\n",
      "            |###[ BGPPathAttr ]### \n",
      "            |  type_flags= Transitive\n",
      "            |  type_code = AS_PATH\n",
      "            |  attr_len  = 6\n",
      "            |  \\attribute \\\n",
      "            |   |###[ AS_PATH (RFC 4271) ]### \n",
      "            |   |  \\segments  \\\n",
      "            |   |   |###[ ASPathSegment ]### \n",
      "            |   |   |  segment_type= AS_SEQUENCE\n",
      "            |   |   |  segment_length= 1\n",
      "            |   |   |  segment_value= [0]\n",
      "            |   |   |###[ ASPathSegment ]### \n",
      "            |   |   |  segment_type= 0\n",
      "            |   |   |  segment_length= 151\n",
      "            |   |   |  segment_value= []\n",
      "            |###[ BGPPathAttr ]### \n",
      "            |  type_flags= Transitive\n",
      "            |  type_code = NEXT_HOP\n",
      "            |  attr_len  = 4\n",
      "            |  \\attribute \\\n",
      "            |   |###[ NEXT_HOP ]### \n",
      "            |   |  next_hop  = 10.100.0.151\n",
      "            |###[ BGPPathAttr ]### \n",
      "            |  type_flags= Transitive+Optional\n",
      "            |  type_code = 32\n",
      "            |  attr_len  = 12\n",
      "            |  \\attribute \\\n",
      "            |   |###[ Raw ]### \n",
      "            |   |  load      = '\\x00\\x00\\x00\\\\x97\\x00\\x00\\x00\\x00\\x00\\x00\\x00\\x00'\n",
      "           \\nlri      \\\n",
      "            |###[ IPv4 NLRI ]### \n",
      "            |  prefix    = 10.152.0.0/25\n",
      "            |###[ IPv4 NLRI ]### \n",
      "            |  prefix    = 10.151.0.0/24\n",
      "\n"
     ]
    }
   ],
   "source": [
    "val = b'E\\xc0\\x00w\\xec\\xd0@\\x00\\x01\\x06v.\\nd\\x00\\x97\\nd\\x00d\\x00\\xb3\\x89\\x1fj\\x19+\\xc4\\x93\\xc9\\xa4\\xe8\\x80\\x18\\x01\\xfd\\xb3\\xbb\\x00\\x00\\x01\\x01\\x08\\nc\\x8f\\x94F(\\x88\\xea\\xa9\\xff\\xff\\xff\\xff\\xff\\xff\\xff\\xff\\xff\\xff\\xff\\xff\\xff\\xff\\xff\\xff\\x00C\\x02\\x00\\x00\\x00#@\\x01\\x01\\x00@\\x02\\x06\\x02\\x01\\x00\\x00\\x00\\x97@\\x03\\x04\\nd\\x00\\x97\\xc0 \\x0c\\x00\\x00\\x00\\x97\\x00\\x00\\x00\\x00\\x00\\x00\\x00\\x00\\x19\\n\\x98\\x00\\x00\\x18\\n\\x97\\x00'\n",
    "val = bytearray(val)\n",
    "print(len(val))\n",
    "print(val)\n",
    "print(val[110:115])\n",
    "# del val[110:115]\n",
    "val = IP(bytes(val))\n",
    "# val[BGPHeader].len = val[BGPHeader].len - 5\n",
    "val.show2()"
   ]
  },
  {
   "cell_type": "code",
   "execution_count": 597,
   "metadata": {},
   "outputs": [
    {
     "name": "stdout",
     "output_type": "stream",
     "text": [
      "###[ HEADER ]### \n",
      "  marker    = 0xffffffffffffffffffffffffffffffff\n",
      "  len       = 62\n",
      "  type      = UPDATE\n",
      "###[ UPDATE ]### \n",
      "     withdrawn_routes_len= 0\n",
      "     \\withdrawn_routes\\\n",
      "     path_attr_len= 35\n",
      "     \\path_attr \\\n",
      "      |###[ BGPPathAttr ]### \n",
      "      |  type_flags= Transitive\n",
      "      |  type_code = ORIGIN\n",
      "      |  attr_len  = 1\n",
      "      |  \\attribute \\\n",
      "      |   |###[ ORIGIN ]### \n",
      "      |   |  origin    = IGP\n",
      "      |###[ BGPPathAttr ]### \n",
      "      |  type_flags= Transitive\n",
      "      |  type_code = AS_PATH\n",
      "      |  attr_len  = 6\n",
      "      |  \\attribute \\\n",
      "      |   |###[ AS_PATH (RFC 4271) ]### \n",
      "      |   |  \\segments  \\\n",
      "      |   |   |###[ ASPathSegment ]### \n",
      "      |   |   |  segment_type= AS_SEQUENCE\n",
      "      |   |   |  segment_length= 1\n",
      "      |   |   |  segment_value= [0]\n",
      "      |   |   |###[ ASPathSegment ]### \n",
      "      |   |   |  segment_type= 0\n",
      "      |   |   |  segment_length= 151\n",
      "      |   |   |  segment_value= []\n",
      "      |###[ BGPPathAttr ]### \n",
      "      |  type_flags= Transitive\n",
      "      |  type_code = NEXT_HOP\n",
      "      |  attr_len  = 4\n",
      "      |  \\attribute \\\n",
      "      |   |###[ NEXT_HOP ]### \n",
      "      |   |  next_hop  = 10.100.0.151\n",
      "      |###[ BGPPathAttr ]### \n",
      "      |  type_flags= Transitive+Optional\n",
      "      |  type_code = 32\n",
      "      |  attr_len  = 12\n",
      "      |  \\attribute \\\n",
      "      |   |###[ Raw ]### \n",
      "      |   |  load      = '\\x00\\x00\\x00\\\\x97\\x00\\x00\\x00\\x00\\x00\\x00\\x00\\x00'\n",
      "     \\nlri      \\\n",
      "      |###[ IPv4 NLRI ]### \n",
      "      |  prefix    = 10.151.0.0/24\n",
      "\n"
     ]
    },
    {
     "ename": "TypeError",
     "evalue": "can only concatenate str (not \"bytes\") to str",
     "output_type": "error",
     "traceback": [
      "\u001b[0;31m---------------------------------------------------------------------------\u001b[0m",
      "\u001b[0;31mTypeError\u001b[0m                                 Traceback (most recent call last)",
      "Cell \u001b[0;32mIn [597], line 4\u001b[0m\n\u001b[1;32m      2\u001b[0m p_hijack[BGPHeader]\u001b[38;5;241m.\u001b[39mshow()\n\u001b[1;32m      3\u001b[0m p_hijack[BGPHeader]\u001b[38;5;241m.\u001b[39mlen\n\u001b[0;32m----> 4\u001b[0m \u001b[38;5;28mprint\u001b[39m(\u001b[38;5;28;43mlen\u001b[39;49m\u001b[43m(\u001b[49m\u001b[43mp_hijack\u001b[49m\u001b[43m)\u001b[49m)\n",
      "File \u001b[0;32m~/BGP_Chain/bgp_smart_contracts/venv/lib/python3.10/site-packages/scapy/packet.py:605\u001b[0m, in \u001b[0;36mPacket.__len__\u001b[0;34m(self)\u001b[0m\n\u001b[1;32m    603\u001b[0m \u001b[38;5;28;01mdef\u001b[39;00m \u001b[38;5;21m__len__\u001b[39m(\u001b[38;5;28mself\u001b[39m):\n\u001b[1;32m    604\u001b[0m     \u001b[38;5;66;03m# type: () -> int\u001b[39;00m\n\u001b[0;32m--> 605\u001b[0m     \u001b[38;5;28;01mreturn\u001b[39;00m \u001b[38;5;28mlen\u001b[39m(\u001b[38;5;28;43mself\u001b[39;49m\u001b[38;5;241;43m.\u001b[39;49m\u001b[38;5;21;43m__bytes__\u001b[39;49m\u001b[43m(\u001b[49m\u001b[43m)\u001b[49m)\n",
      "File \u001b[0;32m~/BGP_Chain/bgp_smart_contracts/venv/lib/python3.10/site-packages/scapy/packet.py:564\u001b[0m, in \u001b[0;36mPacket.__bytes__\u001b[0;34m(self)\u001b[0m\n\u001b[1;32m    562\u001b[0m \u001b[38;5;28;01mdef\u001b[39;00m \u001b[38;5;21m__bytes__\u001b[39m(\u001b[38;5;28mself\u001b[39m):\n\u001b[1;32m    563\u001b[0m     \u001b[38;5;66;03m# type: () -> bytes\u001b[39;00m\n\u001b[0;32m--> 564\u001b[0m     \u001b[38;5;28;01mreturn\u001b[39;00m \u001b[38;5;28;43mself\u001b[39;49m\u001b[38;5;241;43m.\u001b[39;49m\u001b[43mbuild\u001b[49m\u001b[43m(\u001b[49m\u001b[43m)\u001b[49m\n",
      "File \u001b[0;32m~/BGP_Chain/bgp_smart_contracts/venv/lib/python3.10/site-packages/scapy/packet.py:695\u001b[0m, in \u001b[0;36mPacket.build\u001b[0;34m(self)\u001b[0m\n\u001b[1;32m    688\u001b[0m \u001b[38;5;28;01mdef\u001b[39;00m \u001b[38;5;21mbuild\u001b[39m(\u001b[38;5;28mself\u001b[39m):\n\u001b[1;32m    689\u001b[0m     \u001b[38;5;66;03m# type: () -> bytes\u001b[39;00m\n\u001b[1;32m    690\u001b[0m     \u001b[38;5;124;03m\"\"\"\u001b[39;00m\n\u001b[1;32m    691\u001b[0m \u001b[38;5;124;03m    Create the current layer\u001b[39;00m\n\u001b[1;32m    692\u001b[0m \n\u001b[1;32m    693\u001b[0m \u001b[38;5;124;03m    :return: string of the packet with the payload\u001b[39;00m\n\u001b[1;32m    694\u001b[0m \u001b[38;5;124;03m    \"\"\"\u001b[39;00m\n\u001b[0;32m--> 695\u001b[0m     p \u001b[38;5;241m=\u001b[39m \u001b[38;5;28;43mself\u001b[39;49m\u001b[38;5;241;43m.\u001b[39;49m\u001b[43mdo_build\u001b[49m\u001b[43m(\u001b[49m\u001b[43m)\u001b[49m\n\u001b[1;32m    696\u001b[0m     p \u001b[38;5;241m+\u001b[39m\u001b[38;5;241m=\u001b[39m \u001b[38;5;28mself\u001b[39m\u001b[38;5;241m.\u001b[39mbuild_padding()\n\u001b[1;32m    697\u001b[0m     p \u001b[38;5;241m=\u001b[39m \u001b[38;5;28mself\u001b[39m\u001b[38;5;241m.\u001b[39mbuild_done(p)\n",
      "File \u001b[0;32m~/BGP_Chain/bgp_smart_contracts/venv/lib/python3.10/site-packages/scapy/packet.py:678\u001b[0m, in \u001b[0;36mPacket.do_build\u001b[0;34m(self)\u001b[0m\n\u001b[1;32m    676\u001b[0m \u001b[38;5;28;01mfor\u001b[39;00m t \u001b[38;5;129;01min\u001b[39;00m \u001b[38;5;28mself\u001b[39m\u001b[38;5;241m.\u001b[39mpost_transforms:\n\u001b[1;32m    677\u001b[0m     pkt \u001b[38;5;241m=\u001b[39m t(pkt)\n\u001b[0;32m--> 678\u001b[0m pay \u001b[38;5;241m=\u001b[39m \u001b[38;5;28;43mself\u001b[39;49m\u001b[38;5;241;43m.\u001b[39;49m\u001b[43mdo_build_payload\u001b[49m\u001b[43m(\u001b[49m\u001b[43m)\u001b[49m\n\u001b[1;32m    679\u001b[0m \u001b[38;5;28;01mif\u001b[39;00m \u001b[38;5;28mself\u001b[39m\u001b[38;5;241m.\u001b[39mraw_packet_cache \u001b[38;5;129;01mis\u001b[39;00m \u001b[38;5;28;01mNone\u001b[39;00m:\n\u001b[1;32m    680\u001b[0m     \u001b[38;5;28;01mreturn\u001b[39;00m \u001b[38;5;28mself\u001b[39m\u001b[38;5;241m.\u001b[39mpost_build(pkt, pay)\n",
      "File \u001b[0;32m~/BGP_Chain/bgp_smart_contracts/venv/lib/python3.10/site-packages/scapy/packet.py:664\u001b[0m, in \u001b[0;36mPacket.do_build_payload\u001b[0;34m(self)\u001b[0m\n\u001b[1;32m    657\u001b[0m \u001b[38;5;28;01mdef\u001b[39;00m \u001b[38;5;21mdo_build_payload\u001b[39m(\u001b[38;5;28mself\u001b[39m):\n\u001b[1;32m    658\u001b[0m     \u001b[38;5;66;03m# type: () -> bytes\u001b[39;00m\n\u001b[1;32m    659\u001b[0m     \u001b[38;5;124;03m\"\"\"\u001b[39;00m\n\u001b[1;32m    660\u001b[0m \u001b[38;5;124;03m    Create the default version of the payload layer\u001b[39;00m\n\u001b[1;32m    661\u001b[0m \n\u001b[1;32m    662\u001b[0m \u001b[38;5;124;03m    :return: a string of payload layer\u001b[39;00m\n\u001b[1;32m    663\u001b[0m \u001b[38;5;124;03m    \"\"\"\u001b[39;00m\n\u001b[0;32m--> 664\u001b[0m     \u001b[38;5;28;01mreturn\u001b[39;00m \u001b[38;5;28;43mself\u001b[39;49m\u001b[38;5;241;43m.\u001b[39;49m\u001b[43mpayload\u001b[49m\u001b[38;5;241;43m.\u001b[39;49m\u001b[43mdo_build\u001b[49m\u001b[43m(\u001b[49m\u001b[43m)\u001b[49m\n",
      "File \u001b[0;32m~/BGP_Chain/bgp_smart_contracts/venv/lib/python3.10/site-packages/scapy/packet.py:678\u001b[0m, in \u001b[0;36mPacket.do_build\u001b[0;34m(self)\u001b[0m\n\u001b[1;32m    676\u001b[0m \u001b[38;5;28;01mfor\u001b[39;00m t \u001b[38;5;129;01min\u001b[39;00m \u001b[38;5;28mself\u001b[39m\u001b[38;5;241m.\u001b[39mpost_transforms:\n\u001b[1;32m    677\u001b[0m     pkt \u001b[38;5;241m=\u001b[39m t(pkt)\n\u001b[0;32m--> 678\u001b[0m pay \u001b[38;5;241m=\u001b[39m \u001b[38;5;28;43mself\u001b[39;49m\u001b[38;5;241;43m.\u001b[39;49m\u001b[43mdo_build_payload\u001b[49m\u001b[43m(\u001b[49m\u001b[43m)\u001b[49m\n\u001b[1;32m    679\u001b[0m \u001b[38;5;28;01mif\u001b[39;00m \u001b[38;5;28mself\u001b[39m\u001b[38;5;241m.\u001b[39mraw_packet_cache \u001b[38;5;129;01mis\u001b[39;00m \u001b[38;5;28;01mNone\u001b[39;00m:\n\u001b[1;32m    680\u001b[0m     \u001b[38;5;28;01mreturn\u001b[39;00m \u001b[38;5;28mself\u001b[39m\u001b[38;5;241m.\u001b[39mpost_build(pkt, pay)\n",
      "File \u001b[0;32m~/BGP_Chain/bgp_smart_contracts/venv/lib/python3.10/site-packages/scapy/packet.py:664\u001b[0m, in \u001b[0;36mPacket.do_build_payload\u001b[0;34m(self)\u001b[0m\n\u001b[1;32m    657\u001b[0m \u001b[38;5;28;01mdef\u001b[39;00m \u001b[38;5;21mdo_build_payload\u001b[39m(\u001b[38;5;28mself\u001b[39m):\n\u001b[1;32m    658\u001b[0m     \u001b[38;5;66;03m# type: () -> bytes\u001b[39;00m\n\u001b[1;32m    659\u001b[0m     \u001b[38;5;124;03m\"\"\"\u001b[39;00m\n\u001b[1;32m    660\u001b[0m \u001b[38;5;124;03m    Create the default version of the payload layer\u001b[39;00m\n\u001b[1;32m    661\u001b[0m \n\u001b[1;32m    662\u001b[0m \u001b[38;5;124;03m    :return: a string of payload layer\u001b[39;00m\n\u001b[1;32m    663\u001b[0m \u001b[38;5;124;03m    \"\"\"\u001b[39;00m\n\u001b[0;32m--> 664\u001b[0m     \u001b[38;5;28;01mreturn\u001b[39;00m \u001b[38;5;28;43mself\u001b[39;49m\u001b[38;5;241;43m.\u001b[39;49m\u001b[43mpayload\u001b[49m\u001b[38;5;241;43m.\u001b[39;49m\u001b[43mdo_build\u001b[49m\u001b[43m(\u001b[49m\u001b[43m)\u001b[49m\n",
      "    \u001b[0;31m[... skipping similar frames: Packet.do_build at line 678 (1 times), Packet.do_build_payload at line 664 (1 times)]\u001b[0m\n",
      "File \u001b[0;32m~/BGP_Chain/bgp_smart_contracts/venv/lib/python3.10/site-packages/scapy/packet.py:678\u001b[0m, in \u001b[0;36mPacket.do_build\u001b[0;34m(self)\u001b[0m\n\u001b[1;32m    676\u001b[0m \u001b[38;5;28;01mfor\u001b[39;00m t \u001b[38;5;129;01min\u001b[39;00m \u001b[38;5;28mself\u001b[39m\u001b[38;5;241m.\u001b[39mpost_transforms:\n\u001b[1;32m    677\u001b[0m     pkt \u001b[38;5;241m=\u001b[39m t(pkt)\n\u001b[0;32m--> 678\u001b[0m pay \u001b[38;5;241m=\u001b[39m \u001b[38;5;28;43mself\u001b[39;49m\u001b[38;5;241;43m.\u001b[39;49m\u001b[43mdo_build_payload\u001b[49m\u001b[43m(\u001b[49m\u001b[43m)\u001b[49m\n\u001b[1;32m    679\u001b[0m \u001b[38;5;28;01mif\u001b[39;00m \u001b[38;5;28mself\u001b[39m\u001b[38;5;241m.\u001b[39mraw_packet_cache \u001b[38;5;129;01mis\u001b[39;00m \u001b[38;5;28;01mNone\u001b[39;00m:\n\u001b[1;32m    680\u001b[0m     \u001b[38;5;28;01mreturn\u001b[39;00m \u001b[38;5;28mself\u001b[39m\u001b[38;5;241m.\u001b[39mpost_build(pkt, pay)\n",
      "File \u001b[0;32m~/BGP_Chain/bgp_smart_contracts/venv/lib/python3.10/site-packages/scapy/packet.py:664\u001b[0m, in \u001b[0;36mPacket.do_build_payload\u001b[0;34m(self)\u001b[0m\n\u001b[1;32m    657\u001b[0m \u001b[38;5;28;01mdef\u001b[39;00m \u001b[38;5;21mdo_build_payload\u001b[39m(\u001b[38;5;28mself\u001b[39m):\n\u001b[1;32m    658\u001b[0m     \u001b[38;5;66;03m# type: () -> bytes\u001b[39;00m\n\u001b[1;32m    659\u001b[0m     \u001b[38;5;124;03m\"\"\"\u001b[39;00m\n\u001b[1;32m    660\u001b[0m \u001b[38;5;124;03m    Create the default version of the payload layer\u001b[39;00m\n\u001b[1;32m    661\u001b[0m \n\u001b[1;32m    662\u001b[0m \u001b[38;5;124;03m    :return: a string of payload layer\u001b[39;00m\n\u001b[1;32m    663\u001b[0m \u001b[38;5;124;03m    \"\"\"\u001b[39;00m\n\u001b[0;32m--> 664\u001b[0m     \u001b[38;5;28;01mreturn\u001b[39;00m \u001b[38;5;28;43mself\u001b[39;49m\u001b[38;5;241;43m.\u001b[39;49m\u001b[43mpayload\u001b[49m\u001b[38;5;241;43m.\u001b[39;49m\u001b[43mdo_build\u001b[49m\u001b[43m(\u001b[49m\u001b[43m)\u001b[49m\n",
      "File \u001b[0;32m~/BGP_Chain/bgp_smart_contracts/venv/lib/python3.10/site-packages/scapy/packet.py:680\u001b[0m, in \u001b[0;36mPacket.do_build\u001b[0;34m(self)\u001b[0m\n\u001b[1;32m    678\u001b[0m pay \u001b[38;5;241m=\u001b[39m \u001b[38;5;28mself\u001b[39m\u001b[38;5;241m.\u001b[39mdo_build_payload()\n\u001b[1;32m    679\u001b[0m \u001b[38;5;28;01mif\u001b[39;00m \u001b[38;5;28mself\u001b[39m\u001b[38;5;241m.\u001b[39mraw_packet_cache \u001b[38;5;129;01mis\u001b[39;00m \u001b[38;5;28;01mNone\u001b[39;00m:\n\u001b[0;32m--> 680\u001b[0m     \u001b[38;5;28;01mreturn\u001b[39;00m \u001b[38;5;28;43mself\u001b[39;49m\u001b[38;5;241;43m.\u001b[39;49m\u001b[43mpost_build\u001b[49m\u001b[43m(\u001b[49m\u001b[43mpkt\u001b[49m\u001b[43m,\u001b[49m\u001b[43m \u001b[49m\u001b[43mpay\u001b[49m\u001b[43m)\u001b[49m\n\u001b[1;32m    681\u001b[0m \u001b[38;5;28;01melse\u001b[39;00m:\n\u001b[1;32m    682\u001b[0m     \u001b[38;5;28;01mreturn\u001b[39;00m pkt \u001b[38;5;241m+\u001b[39m pay\n",
      "File \u001b[0;32m~/BGP_Chain/bgp_smart_contracts/venv/lib/python3.10/site-packages/scapy/contrib/bgp.py:2146\u001b[0m, in \u001b[0;36mBGPUpdate.post_build\u001b[0;34m(self, p, pay)\u001b[0m\n\u001b[1;32m   2143\u001b[0m     length \u001b[38;5;241m=\u001b[39m \u001b[38;5;28msum\u001b[39m(\u001b[38;5;28mmap\u001b[39m(subpacklen, \u001b[38;5;28mself\u001b[39m\u001b[38;5;241m.\u001b[39mpath_attr))\n\u001b[1;32m   2144\u001b[0m     packet \u001b[38;5;241m=\u001b[39m p[:\u001b[38;5;241m2\u001b[39m \u001b[38;5;241m+\u001b[39m wl] \u001b[38;5;241m+\u001b[39m struct\u001b[38;5;241m.\u001b[39mpack(\u001b[38;5;124m\"\u001b[39m\u001b[38;5;124m!H\u001b[39m\u001b[38;5;124m\"\u001b[39m, length) \u001b[38;5;241m+\u001b[39m p[\u001b[38;5;241m4\u001b[39m \u001b[38;5;241m+\u001b[39m wl:]\n\u001b[0;32m-> 2146\u001b[0m \u001b[38;5;28;01mreturn\u001b[39;00m \u001b[43mpacket\u001b[49m\u001b[43m \u001b[49m\u001b[38;5;241;43m+\u001b[39;49m\u001b[43m \u001b[49m\u001b[43mpay\u001b[49m\n",
      "\u001b[0;31mTypeError\u001b[0m: can only concatenate str (not \"bytes\") to str"
     ]
    }
   ],
   "source": [
    "p_hijack[BGPUpdate]\n",
    "p_hijack[BGPHeader].show()\n",
    "p_hijack[BGPHeader].len\n",
    "print(len(p_hijack))\n",
    "# print(bytes(p_hijack))\n",
    "# p_hijack.show()\n",
    "# print(bytes(p_hijack))"
   ]
  },
  {
   "cell_type": "code",
   "execution_count": null,
   "metadata": {},
   "outputs": [],
   "source": []
  },
  {
   "cell_type": "code",
   "execution_count": 427,
   "metadata": {},
   "outputs": [
    {
     "name": "stdout",
     "output_type": "stream",
     "text": [
      "b'\\x00\\x04\\x00\\x01\\x00\\x06\\x02B\\nd\\x00\\x96\\x00\\x00\\x08\\x00E\\xc0\\x00r@\\x9a@\\x00\\x01\\x06\"k\\nd\\x00\\x96\\nd\\x00d\\xd9\\xa1\\x00\\xb3 \\xb5\\xb8\\xe7a\\x80>\\xc0\\x80\\x18\\x01\\xf6\\x16&\\x00\\x00\\x01\\x01\\x08\\n%\\x08\\x05\\x9b/hOF\\xff\\xff\\xff\\xff\\xff\\xff\\xff\\xff\\xff\\xff\\xff\\xff\\xff\\xff\\xff\\xff\\x00>\\x02\\x00\\x00\\x00#@\\x01\\x01\\x00@\\x02\\x06\\x02\\x01\\x00\\x00\\x00\\x96@\\x03\\x04\\nd\\x00\\x96\\xc0 \\x0c\\x00\\x00\\x00\\x96\\x00\\x00\\x00\\x00\\x00\\x00\\x00\\x00\\x18\\n\\x96\\x00'\n"
     ]
    }
   ],
   "source": [
    "print(raw(pkt))"
   ]
  },
  {
   "cell_type": "code",
   "execution_count": 544,
   "metadata": {},
   "outputs": [
    {
     "name": "stdout",
     "output_type": "stream",
     "text": [
      "130\n",
      "0x0\n",
      "<class 'str'>\n"
     ]
    }
   ],
   "source": [
    "b_pkt = bytearray(bytes(pkt))\n",
    "b_pkt\n",
    "print(len(b_pkt))\n",
    "print(hex(b_pkt[129]))\n",
    "print(type(hex(b_pkt[129])))"
   ]
  },
  {
   "cell_type": "code",
   "execution_count": 545,
   "metadata": {},
   "outputs": [
    {
     "name": "stdout",
     "output_type": "stream",
     "text": [
      "bytearray(b'\\x00\\x04\\x00\\x01\\x00\\x06\\x02B\\nd\\x00\\x96\\x00\\x00\\x08\\x00E\\xc0\\x00r@\\x9a@\\x00\\x01\\x06\"k\\nd\\x00\\x96\\nd\\x00d\\xd9\\xa1\\x00\\xb3 \\xb5\\xb8\\xe7a\\x80>\\xc0\\x80\\x18\\x01\\xf6\\x16&\\x00\\x00\\x01\\x01\\x08\\n%\\x08\\x05\\x9b/hOF\\xff\\xff\\xff\\xff\\xff\\xff\\xff\\xff\\xff\\xff\\xff\\xff\\xff\\xff\\xff\\xff\\x00>\\x02\\x00\\x00\\x00#@\\x01\\x01\\x00@\\x02\\x06\\x02\\x01\\x00\\x00\\x00\\x96@\\x03\\x04\\nd\\x00\\x96\\xc0 \\x0c\\x00\\x00\\x00\\x96\\x00\\x00\\x00\\x00\\x00\\x00\\x00\\x00\\x18\\n\\x96\\x00')\n",
      "b'\\x18\\n\\x96\\x01'\n",
      "bytearray(b'\\x00\\x04\\x00\\x01\\x00\\x06\\x02B\\nd\\x00\\x96\\x00\\x00\\x08\\x00E\\xc0\\x00r@\\x9a@\\x00\\x01\\x06\"k\\nd\\x00\\x96\\nd\\x00d\\xd9\\xa1\\x00\\xb3 \\xb5\\xb8\\xe7a\\x80>\\xc0\\x80\\x18\\x01\\xf6\\x16&\\x00\\x00\\x01\\x01\\x08\\n%\\x08\\x05\\x9b/hOF\\xff\\xff\\xff\\xff\\xff\\xff\\xff\\xff\\xff\\xff\\xff\\xff\\xff\\xff\\xff\\xff\\x00>\\x02\\x00\\x00\\x00#@\\x01\\x01\\x00@\\x02\\x06\\x02\\x01\\x00\\x00\\x00\\x96@\\x03\\x04\\nd\\x00\\x96\\xc0 \\x0c\\x00\\x00\\x00\\x96\\x00\\x00\\x00\\x00\\x00\\x00\\x00\\x00\\x18\\n\\x96\\x01')\n"
     ]
    }
   ],
   "source": [
    "# new_val = 0\n",
    "# b_pkt[129] = new_val\n",
    "print(b_pkt)\n",
    "print(new_nlri_bytes)\n",
    "b_pkt[126:130] = new_nlri_bytes\n",
    "print(b_pkt)"
   ]
  },
  {
   "cell_type": "code",
   "execution_count": 513,
   "metadata": {},
   "outputs": [],
   "source": [
    "# b_pkt.extend(b'\\x00')\n",
    "b_pkt.extend(new_nlri_bytes)"
   ]
  },
  {
   "cell_type": "code",
   "execution_count": 514,
   "metadata": {},
   "outputs": [
    {
     "name": "stdout",
     "output_type": "stream",
     "text": [
      "bytearray(b'\\x00\\x04\\x00\\x01\\x00\\x06\\x02B\\nd\\x00\\x96\\x00\\x00\\x08\\x00E\\xc0\\x00r@\\x9a@\\x00\\x01\\x06\"k\\nd\\x00\\x96\\nd\\x00d\\xd9\\xa1\\x00\\xb3 \\xb5\\xb8\\xe7a\\x80>\\xc0\\x80\\x18\\x01\\xf6\\x16&\\x00\\x00\\x01\\x01\\x08\\n%\\x08\\x05\\x9b/hOF\\xff\\xff\\xff\\xff\\xff\\xff\\xff\\xff\\xff\\xff\\xff\\xff\\xff\\xff\\xff\\xff\\x00>\\x02\\x00\\x00\\x00#@\\x01\\x01\\x00@\\x02\\x06\\x02\\x01\\x00\\x00\\x00\\x96@\\x03\\x04\\nd\\x00\\x96\\xc0 \\x0c\\x00\\x00\\x00\\x96\\x00\\x00\\x00\\x00\\x00\\x00\\x00\\x00\\x18\\n\\x96\\x01\\x00\\x18\\n\\x96\\x01')\n"
     ]
    }
   ],
   "source": [
    "print(b_pkt)"
   ]
  },
  {
   "cell_type": "code",
   "execution_count": 546,
   "metadata": {},
   "outputs": [],
   "source": [
    "# pkt_reconstructed = CookedLinux(b_pkt)\n",
    "pkt_reconstructed = CookedLinux(bytes(b_pkt))\n",
    "del pkt_reconstructed[IP].chksum "
   ]
  },
  {
   "cell_type": "code",
   "execution_count": 547,
   "metadata": {},
   "outputs": [
    {
     "name": "stdout",
     "output_type": "stream",
     "text": [
      "###[ cooked linux ]### \n",
      "  pkttype   = sent-by-us\n",
      "  lladdrtype= 0x1\n",
      "  lladdrlen = 6\n",
      "  src       = '\\x02B\\nd\\x00\\\\x96'\n",
      "  proto     = IPv4\n",
      "###[ IP ]### \n",
      "     version   = 4\n",
      "     ihl       = 5\n",
      "     tos       = 0xc0\n",
      "     len       = 114\n",
      "     id        = 16538\n",
      "     flags     = DF\n",
      "     frag      = 0\n",
      "     ttl       = 1\n",
      "     proto     = tcp\n",
      "     chksum    = 0x226b\n",
      "     src       = 10.100.0.150\n",
      "     dst       = 10.100.0.100\n",
      "     \\options   \\\n",
      "###[ TCP ]### \n",
      "        sport     = 55713\n",
      "        dport     = bgp\n",
      "        seq       = 548780263\n",
      "        ack       = 1635794624\n",
      "        dataofs   = 8\n",
      "        reserved  = 0\n",
      "        flags     = PA\n",
      "        window    = 502\n",
      "        chksum    = 0x1626\n",
      "        urgptr    = 0\n",
      "        options   = [('NOP', None), ('NOP', None), ('Timestamp', (621282715, 795365190))]\n",
      "###[ HEADER ]### \n",
      "           marker    = 0xffffffffffffffffffffffffffffffff\n",
      "           len       = 62\n",
      "           type      = UPDATE\n",
      "###[ UPDATE ]### \n",
      "              withdrawn_routes_len= 0\n",
      "              \\withdrawn_routes\\\n",
      "              path_attr_len= 35\n",
      "              \\path_attr \\\n",
      "               |###[ BGPPathAttr ]### \n",
      "               |  type_flags= Transitive\n",
      "               |  type_code = ORIGIN\n",
      "               |  attr_len  = 1\n",
      "               |  \\attribute \\\n",
      "               |   |###[ ORIGIN ]### \n",
      "               |   |  origin    = IGP\n",
      "               |###[ BGPPathAttr ]### \n",
      "               |  type_flags= Transitive\n",
      "               |  type_code = AS_PATH\n",
      "               |  attr_len  = 6\n",
      "               |  \\attribute \\\n",
      "               |   |###[ AS_PATH (RFC 4271) ]### \n",
      "               |   |  \\segments  \\\n",
      "               |   |   |###[ ASPathSegment ]### \n",
      "               |   |   |  segment_type= AS_SEQUENCE\n",
      "               |   |   |  segment_length= 1\n",
      "               |   |   |  segment_value= [0]\n",
      "               |   |   |###[ ASPathSegment ]### \n",
      "               |   |   |  segment_type= 0\n",
      "               |   |   |  segment_length= 150\n",
      "               |   |   |  segment_value= []\n",
      "               |###[ BGPPathAttr ]### \n",
      "               |  type_flags= Transitive\n",
      "               |  type_code = NEXT_HOP\n",
      "               |  attr_len  = 4\n",
      "               |  \\attribute \\\n",
      "               |   |###[ NEXT_HOP ]### \n",
      "               |   |  next_hop  = 10.100.0.150\n",
      "               |###[ BGPPathAttr ]### \n",
      "               |  type_flags= Transitive+Optional\n",
      "               |  type_code = 32\n",
      "               |  attr_len  = 12\n",
      "               |  \\attribute \\\n",
      "               |   |###[ Raw ]### \n",
      "               |   |  load      = '\\x00\\x00\\x00\\\\x96\\x00\\x00\\x00\\x00\\x00\\x00\\x00\\x00'\n",
      "              \\nlri      \\\n",
      "               |###[ IPv4 NLRI ]### \n",
      "               |  prefix    = 10.150.1.0/24\n",
      "\n",
      "None\n"
     ]
    }
   ],
   "source": [
    "print(pkt_reconstructed.show2())"
   ]
  },
  {
   "cell_type": "code",
   "execution_count": 523,
   "metadata": {},
   "outputs": [],
   "source": [
    "pkt_reconstructed[BGPUpdate].nlri.append(new_nlri)"
   ]
  },
  {
   "cell_type": "code",
   "execution_count": 78,
   "metadata": {},
   "outputs": [
    {
     "name": "stdout",
     "output_type": "stream",
     "text": [
      "b'\\x00\\x04\\x00\\x01\\x00\\x06\\x02B\\nd\\x00\\x96\\x00\\x00\\x08\\x00E\\xc0\\x00r@\\x9a@\\x00\\x01\\x06\"k\\nd\\x00\\x96\\nd\\x00d\\xd9\\xa1\\x00\\xb3 \\xb5\\xb8\\xe7a\\x80>\\xc0\\x80\\x18\\x01\\xf6(e\\x00\\x00\\x01\\x01\\x08\\n%\\x08\\x05\\x9b/hOF\\xff\\xff\\xff\\xff\\xff\\xff\\xff\\xff\\xff\\xff\\xff\\xff\\xff\\xff\\xff\\xff\\x00>\\x02\\x00\\x00\\x00#@\\x01\\x01\\x00@\\x02\\x06\\x02\\x01\\x00\\x00\\x00\\x96@\\x03\\x04\\nd\\x00\\x96\\xc0 \\x0c\\x00\\x00\\x00\\x96\\x00\\x00\\x00\\x00\\x00\\x00\\x00\\x00\\x18\\n\\x96\\x00'\n"
     ]
    }
   ],
   "source": [
    "print(bytes(pkt))"
   ]
  },
  {
   "cell_type": "code",
   "execution_count": 40,
   "metadata": {},
   "outputs": [
    {
     "name": "stdout",
     "output_type": "stream",
     "text": [
      "<class 'bytes'>\n",
      "b'b\"b\\'\\\\\\\\x00\\\\\\\\x00\\\\\\\\x00\\\\\\\\x96\\\\\\\\x00\\\\\\\\x00\\\\\\\\x00\\\\\\\\x00\\\\\\\\x00\\\\\\\\x00\\\\\\\\x00\\\\\\\\x00\\'\"'\n"
     ]
    }
   ],
   "source": [
    "# val = pkt[BGPUpdate].show()\n",
    "val = pkt[BGPUpdate].path_attr[3][Raw].load\n",
    "pkt[BGPUpdate].path_attr[3][Raw].load = val.decode('utf-8')\n",
    "print(type(val))\n",
    "\n",
    "print(pkt[BGPUpdate].path_attr[3][Raw].load)"
   ]
  },
  {
   "cell_type": "code",
   "execution_count": 41,
   "metadata": {},
   "outputs": [],
   "source": [
    "val = b'\\x00\\x00\\x00\\x97\\x00\\x00\\x00\\x00\\x00\\x00\\x00\\x00'"
   ]
  },
  {
   "cell_type": "code",
   "execution_count": 42,
   "metadata": {},
   "outputs": [
    {
     "data": {
      "text/plain": [
       "\"b'\\\\x00\\\\x00\\\\x00\\\\x97\\\\x00\\\\x00\\\\x00\\\\x00\\\\x00\\\\x00\\\\x00\\\\x00'\""
      ]
     },
     "execution_count": 42,
     "metadata": {},
     "output_type": "execute_result"
    }
   ],
   "source": [
    "str(val)"
   ]
  },
  {
   "cell_type": "code",
   "execution_count": 43,
   "metadata": {},
   "outputs": [
    {
     "ename": "UnicodeDecodeError",
     "evalue": "'utf-8' codec can't decode byte 0x97 in position 3: invalid start byte",
     "output_type": "error",
     "traceback": [
      "\u001b[0;31m---------------------------------------------------------------------------\u001b[0m",
      "\u001b[0;31mUnicodeDecodeError\u001b[0m                        Traceback (most recent call last)",
      "Cell \u001b[0;32mIn [43], line 1\u001b[0m\n\u001b[0;32m----> 1\u001b[0m \u001b[38;5;28mprint\u001b[39m(\u001b[43mval\u001b[49m\u001b[38;5;241;43m.\u001b[39;49m\u001b[43mdecode\u001b[49m\u001b[43m(\u001b[49m\u001b[38;5;124;43m'\u001b[39;49m\u001b[38;5;124;43mutf-8\u001b[39;49m\u001b[38;5;124;43m'\u001b[39;49m\u001b[43m)\u001b[49m)\n",
      "\u001b[0;31mUnicodeDecodeError\u001b[0m: 'utf-8' codec can't decode byte 0x97 in position 3: invalid start byte"
     ]
    }
   ],
   "source": [
    "print(val.decode('utf-8'))"
   ]
  },
  {
   "cell_type": "code",
   "execution_count": null,
   "metadata": {},
   "outputs": [],
   "source": []
  },
  {
   "cell_type": "code",
   "execution_count": null,
   "metadata": {},
   "outputs": [],
   "source": []
  },
  {
   "cell_type": "code",
   "execution_count": null,
   "metadata": {},
   "outputs": [],
   "source": []
  },
  {
   "cell_type": "code",
   "execution_count": null,
   "metadata": {},
   "outputs": [],
   "source": []
  },
  {
   "cell_type": "code",
   "execution_count": null,
   "metadata": {},
   "outputs": [],
   "source": []
  },
  {
   "cell_type": "code",
   "execution_count": null,
   "metadata": {},
   "outputs": [],
   "source": []
  },
  {
   "cell_type": "code",
   "execution_count": null,
   "metadata": {},
   "outputs": [],
   "source": []
  },
  {
   "cell_type": "code",
   "execution_count": null,
   "metadata": {},
   "outputs": [],
   "source": []
  },
  {
   "cell_type": "code",
   "execution_count": null,
   "metadata": {},
   "outputs": [],
   "source": []
  },
  {
   "cell_type": "code",
   "execution_count": null,
   "metadata": {},
   "outputs": [],
   "source": []
  },
  {
   "cell_type": "code",
   "execution_count": null,
   "metadata": {},
   "outputs": [],
   "source": []
  },
  {
   "cell_type": "code",
   "execution_count": null,
   "metadata": {},
   "outputs": [],
   "source": []
  },
  {
   "cell_type": "code",
   "execution_count": null,
   "metadata": {},
   "outputs": [],
   "source": []
  },
  {
   "cell_type": "code",
   "execution_count": null,
   "metadata": {},
   "outputs": [],
   "source": []
  },
  {
   "cell_type": "code",
   "execution_count": null,
   "metadata": {},
   "outputs": [],
   "source": []
  },
  {
   "cell_type": "code",
   "execution_count": null,
   "metadata": {},
   "outputs": [],
   "source": []
  },
  {
   "cell_type": "code",
   "execution_count": null,
   "metadata": {},
   "outputs": [],
   "source": []
  },
  {
   "cell_type": "code",
   "execution_count": null,
   "metadata": {},
   "outputs": [],
   "source": []
  },
  {
   "cell_type": "code",
   "execution_count": null,
   "metadata": {},
   "outputs": [],
   "source": []
  },
  {
   "cell_type": "code",
   "execution_count": null,
   "metadata": {},
   "outputs": [],
   "source": []
  },
  {
   "cell_type": "code",
   "execution_count": null,
   "metadata": {},
   "outputs": [],
   "source": []
  },
  {
   "cell_type": "code",
   "execution_count": null,
   "metadata": {},
   "outputs": [],
   "source": []
  },
  {
   "cell_type": "code",
   "execution_count": null,
   "metadata": {},
   "outputs": [],
   "source": []
  },
  {
   "cell_type": "code",
   "execution_count": null,
   "metadata": {},
   "outputs": [],
   "source": []
  },
  {
   "cell_type": "code",
   "execution_count": null,
   "metadata": {},
   "outputs": [],
   "source": []
  },
  {
   "cell_type": "code",
   "execution_count": null,
   "metadata": {},
   "outputs": [],
   "source": []
  },
  {
   "cell_type": "code",
   "execution_count": null,
   "metadata": {},
   "outputs": [],
   "source": []
  },
  {
   "cell_type": "code",
   "execution_count": null,
   "metadata": {},
   "outputs": [],
   "source": []
  },
  {
   "cell_type": "code",
   "execution_count": null,
   "metadata": {},
   "outputs": [],
   "source": []
  },
  {
   "cell_type": "code",
   "execution_count": 61,
   "metadata": {},
   "outputs": [],
   "source": [
    "pkt[BGPUpdate].nlri[0].prefix = \"10.150.0.0/24\""
   ]
  },
  {
   "cell_type": "code",
   "execution_count": 68,
   "metadata": {},
   "outputs": [
    {
     "data": {
      "text/plain": [
       "<BGPNLRI_IPv4  prefix=10.150.0.0/24 |>"
      ]
     },
     "execution_count": 68,
     "metadata": {},
     "output_type": "execute_result"
    }
   ],
   "source": [
    "pkt[BGPUpdate].nlri[0]"
   ]
  },
  {
   "cell_type": "code",
   "execution_count": 80,
   "metadata": {},
   "outputs": [],
   "source": [
    "pkt[BGPUpdate].nlri = []"
   ]
  },
  {
   "cell_type": "code",
   "execution_count": 86,
   "metadata": {},
   "outputs": [
    {
     "name": "stdout",
     "output_type": "stream",
     "text": [
      "###[ UPDATE ]### \n",
      "  withdrawn_routes_len= 0\n",
      "  \\withdrawn_routes\\\n",
      "  path_attr_len= 35\n",
      "  \\path_attr \\\n",
      "   |###[ BGPPathAttr ]### \n",
      "   |  type_flags= Transitive\n",
      "   |  type_code = ORIGIN\n",
      "   |  attr_len  = 1\n",
      "   |  \\attribute \\\n",
      "   |   |###[ ORIGIN ]### \n",
      "   |   |  origin    = IGP\n",
      "   |###[ BGPPathAttr ]### \n",
      "   |  type_flags= Transitive\n",
      "   |  type_code = AS_PATH\n",
      "   |  attr_len  = 6\n",
      "   |  \\attribute \\\n",
      "   |   |###[ AS_PATH (RFC 4271) ]### \n",
      "   |   |  \\segments  \\\n",
      "   |   |   |###[ ASPathSegment ]### \n",
      "   |   |   |  segment_type= AS_SEQUENCE\n",
      "   |   |   |  segment_length= 1\n",
      "   |   |   |  segment_value= [0]\n",
      "   |   |   |###[ ASPathSegment ]### \n",
      "   |   |   |  segment_type= 0\n",
      "   |   |   |  segment_length= 150\n",
      "   |   |   |  segment_value= []\n",
      "   |###[ BGPPathAttr ]### \n",
      "   |  type_flags= Transitive\n",
      "   |  type_code = NEXT_HOP\n",
      "   |  attr_len  = 4\n",
      "   |  \\attribute \\\n",
      "   |   |###[ NEXT_HOP ]### \n",
      "   |   |  next_hop  = 10.100.0.150\n",
      "   |###[ BGPPathAttr ]### \n",
      "   |  type_flags= Transitive+Optional\n",
      "   |  type_code = 32\n",
      "   |  attr_len  = 12\n",
      "   |  \\attribute \\\n",
      "   |   |###[ Raw ]### \n",
      "   |   |  load      = '\\x00\\x00\\x00\\\\x96\\x00\\x00\\x00\\x00\\x00\\x00\\x00\\x00'\n",
      "  \\nlri      \\\n",
      "\n"
     ]
    }
   ],
   "source": [
    "pkt[BGPUpdate].show()"
   ]
  },
  {
   "cell_type": "code",
   "execution_count": 204,
   "metadata": {},
   "outputs": [],
   "source": [
    "bgp_update = pkt[BGPUpdate]"
   ]
  },
  {
   "cell_type": "code",
   "execution_count": 206,
   "metadata": {},
   "outputs": [
    {
     "name": "stdout",
     "output_type": "stream",
     "text": [
      "###[ cooked linux ]### \n",
      "  pkttype   = sent-by-us\n",
      "  lladdrtype= 0x1\n",
      "  lladdrlen = 6\n",
      "  src       = '\\x02B\\nd\\x00\\\\x96'\n",
      "  proto     = IPv4\n",
      "###[ IP ]### \n",
      "     version   = 4\n",
      "     ihl       = 5\n",
      "     tos       = 0xc0\n",
      "     len       = 114\n",
      "     id        = 16538\n",
      "     flags     = DF\n",
      "     frag      = 0\n",
      "     ttl       = 1\n",
      "     proto     = tcp\n",
      "     chksum    = 0x226b\n",
      "     src       = 10.100.0.150\n",
      "     dst       = 10.100.0.100\n",
      "     \\options   \\\n",
      "###[ TCP ]### \n",
      "        sport     = 55713\n",
      "        dport     = bgp\n",
      "        seq       = 548780263\n",
      "        ack       = 1635794624\n",
      "        dataofs   = 8\n",
      "        reserved  = 0\n",
      "        flags     = PA\n",
      "        window    = 502\n",
      "        chksum    = 0x1626\n",
      "        urgptr    = 0\n",
      "        options   = [('NOP', None), ('NOP', None), ('Timestamp', (621282715, 795365190))]\n",
      "###[ HEADER ]### \n",
      "           marker    = 0xffffffffffffffffffffffffffffffff\n",
      "           len       = 62\n",
      "           type      = UPDATE\n",
      "###[ UPDATE ]### \n",
      "              withdrawn_routes_len= 0\n",
      "              \\withdrawn_routes\\\n",
      "              path_attr_len= 35\n",
      "              \\path_attr \\\n",
      "               |###[ BGPPathAttr ]### \n",
      "               |  type_flags= Transitive\n",
      "               |  type_code = ORIGIN\n",
      "               |  attr_len  = 1\n",
      "               |  \\attribute \\\n",
      "               |   |###[ ORIGIN ]### \n",
      "               |   |  origin    = IGP\n",
      "               |###[ BGPPathAttr ]### \n",
      "               |  type_flags= Transitive\n",
      "               |  type_code = AS_PATH\n",
      "               |  attr_len  = 6\n",
      "               |  \\attribute \\\n",
      "               |   |###[ AS_PATH (RFC 4271) ]### \n",
      "               |   |  \\segments  \\\n",
      "               |   |   |###[ ASPathSegment ]### \n",
      "               |   |   |  segment_type= AS_SEQUENCE\n",
      "               |   |   |  segment_length= 1\n",
      "               |   |   |  segment_value= [0]\n",
      "               |   |   |###[ ASPathSegment ]### \n",
      "               |   |   |  segment_type= 0\n",
      "               |   |   |  segment_length= 150\n",
      "               |   |   |  segment_value= []\n",
      "               |###[ BGPPathAttr ]### \n",
      "               |  type_flags= Transitive\n",
      "               |  type_code = NEXT_HOP\n",
      "               |  attr_len  = 4\n",
      "               |  \\attribute \\\n",
      "               |   |###[ NEXT_HOP ]### \n",
      "               |   |  next_hop  = 10.100.0.150\n",
      "               |###[ BGPPathAttr ]### \n",
      "               |  type_flags= Transitive+Optional\n",
      "               |  type_code = 32\n",
      "               |  attr_len  = 12\n",
      "               |  \\attribute \\\n",
      "               |   |###[ Raw ]### \n",
      "               |   |  load      = '\\x00\\x00\\x00\\\\x96\\x00\\x00\\x00\\x00\\x00\\x00\\x00\\x00'\n",
      "              \\nlri      \\\n",
      "               |###[ IPv4 NLRI ]### \n",
      "               |  prefix    = 10.150.0.0/24\n",
      "\n"
     ]
    }
   ],
   "source": [
    "pkt.show2()"
   ]
  },
  {
   "cell_type": "code",
   "execution_count": 198,
   "metadata": {},
   "outputs": [],
   "source": [
    "pkt[TCP].remove_payload()"
   ]
  },
  {
   "cell_type": "code",
   "execution_count": 176,
   "metadata": {},
   "outputs": [],
   "source": [
    "# del bgp_update.nlri\n",
    "bgp_update.nlri = []"
   ]
  },
  {
   "cell_type": "code",
   "execution_count": 199,
   "metadata": {},
   "outputs": [],
   "source": [
    "del pkt[IP].chksum"
   ]
  },
  {
   "cell_type": "code",
   "execution_count": 178,
   "metadata": {},
   "outputs": [
    {
     "name": "stdout",
     "output_type": "stream",
     "text": [
      "###[ cooked linux ]### \n",
      "  pkttype   = sent-by-us\n",
      "  lladdrtype= 0x1\n",
      "  lladdrlen = 6\n",
      "  src       = '\\x02B\\nd\\x00\\\\x96'\n",
      "  proto     = IPv4\n",
      "###[ IP ]### \n",
      "     version   = 4\n",
      "     ihl       = 5\n",
      "     tos       = 0xc0\n",
      "     len       = 114\n",
      "     id        = 16538\n",
      "     flags     = DF\n",
      "     frag      = 0\n",
      "     ttl       = 1\n",
      "     proto     = tcp\n",
      "     chksum    = 0x226b\n",
      "     src       = 10.100.0.150\n",
      "     dst       = 10.100.0.100\n",
      "     \\options   \\\n",
      "###[ TCP ]### \n",
      "        sport     = 55713\n",
      "        dport     = bgp\n",
      "        seq       = 548780263\n",
      "        ack       = 1635794624\n",
      "        dataofs   = 8\n",
      "        reserved  = 0\n",
      "        flags     = PA\n",
      "        window    = 502\n",
      "        chksum    = 0x1626\n",
      "        urgptr    = 0\n",
      "        options   = [('NOP', None), ('NOP', None), ('Timestamp', (621282715, 795365190))]\n",
      "\n"
     ]
    }
   ],
   "source": [
    "pkt.show2()"
   ]
  },
  {
   "cell_type": "code",
   "execution_count": 200,
   "metadata": {},
   "outputs": [],
   "source": [
    "pkt = pkt/bgp_update"
   ]
  },
  {
   "cell_type": "code",
   "execution_count": 202,
   "metadata": {},
   "outputs": [
    {
     "name": "stdout",
     "output_type": "stream",
     "text": [
      "###[ cooked linux ]### \n",
      "  pkttype   = sent-by-us\n",
      "  lladdrtype= 0x1\n",
      "  lladdrlen = 6\n",
      "  src       = '\\x02B\\nd\\x00\\\\x96'\n",
      "  proto     = IPv4\n",
      "###[ IP ]### \n",
      "     version   = 4\n",
      "     ihl       = 5\n",
      "     tos       = 0xc0\n",
      "     len       = 114\n",
      "     id        = 16538\n",
      "     flags     = DF\n",
      "     frag      = 0\n",
      "     ttl       = 1\n",
      "     proto     = tcp\n",
      "     chksum    = 0x226b\n",
      "     src       = 10.100.0.150\n",
      "     dst       = 10.100.0.100\n",
      "     \\options   \\\n",
      "###[ TCP ]### \n",
      "        sport     = 55713\n",
      "        dport     = bgp\n",
      "        seq       = 548780263\n",
      "        ack       = 1635794624\n",
      "        dataofs   = 8\n",
      "        reserved  = 0\n",
      "        flags     = PA\n",
      "        window    = 502\n",
      "        chksum    = 0x1626\n",
      "        urgptr    = 0\n",
      "        options   = [('NOP', None), ('NOP', None), ('Timestamp', (621282715, 795365190))]\n",
      "###[ Raw ]### \n",
      "           load      = '\\x00\\x00\\x00#@\\x01\\x01\\x00@\\x02\\x06\\x02\\x01\\x00\\x00\\x00\\\\x96@\\x03\\x04\\nd\\x00\\\\x96\\\\xc0 \\x0c\\x00\\x00\\x00\\\\x96\\x00\\x00\\x00\\x00\\x00\\x00\\x00\\x00\\x18\\n\\\\x96\\x00'\n",
      "\n"
     ]
    }
   ],
   "source": [
    "pkt.show2()"
   ]
  },
  {
   "cell_type": "code",
   "execution_count": null,
   "metadata": {},
   "outputs": [],
   "source": []
  }
 ],
 "metadata": {
  "kernelspec": {
   "display_name": "venv",
   "language": "python",
   "name": "venv"
  },
  "language_info": {
   "codemirror_mode": {
    "name": "ipython",
    "version": 3
   },
   "file_extension": ".py",
   "mimetype": "text/x-python",
   "name": "python",
   "nbconvert_exporter": "python",
   "pygments_lexer": "ipython3",
   "version": "3.10.8"
  }
 },
 "nbformat": 4,
 "nbformat_minor": 2
}
